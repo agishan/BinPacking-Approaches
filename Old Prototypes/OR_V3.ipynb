{
 "cells": [
  {
   "cell_type": "code",
   "execution_count": 6,
   "metadata": {},
   "outputs": [],
   "source": [
    "# Surgery type attributes (previously defined)\n",
    "surgery_type_attributes = {\n",
    "    \"Cardiovascular\": {\"duration\": 4, \"variance\": 1.0, \"priority\": 5},\n",
    "    \"Neurological\": {\"duration\": 5, \"variance\": 1.2, \"priority\": 4},\n",
    "    \"Orthopedic\": {\"duration\": 3, \"variance\": 0.5, \"priority\": 3},\n",
    "    \"Cosmetic\": {\"duration\": 2, \"variance\": 0.3, \"priority\": 1},\n",
    "    \"Gastrointestinal\": {\"duration\": 3.5, \"variance\": 0.7, \"priority\": 2},\n",
    "}\n",
    "\n",
    "# Surgeries list\n",
    "surgeries = [f\"{type} Surgery {i}\" for type in surgery_type_attributes for i in range(1, 11)]\n",
    "\n"
   ]
  },
  {
   "cell_type": "code",
   "execution_count": 19,
   "metadata": {},
   "outputs": [
    {
     "name": "stdout",
     "output_type": "stream",
     "text": [
      "Gurobi Optimizer version 11.0.1 build v11.0.1rc0 (win64 - Windows 10.0 (19045.2))\n",
      "\n",
      "CPU model: Intel(R) Core(TM) i5-10210U CPU @ 1.60GHz, instruction set [SSE2|AVX|AVX2]\n",
      "Thread count: 4 physical cores, 8 logical processors, using up to 8 threads\n",
      "\n",
      "Optimize a model with 80 rows, 1500 columns and 3000 nonzeros\n",
      "Model fingerprint: 0xa74473c6\n",
      "Variable types: 0 continuous, 1500 integer (1500 binary)\n",
      "Coefficient statistics:\n",
      "  Matrix range     [1e+00, 5e+00]\n",
      "  Objective range  [1e+00, 5e+01]\n",
      "  Bounds range     [1e+00, 1e+00]\n",
      "  RHS range        [1e+00, 8e+00]\n",
      "Found heuristic solution: objective 832.0000000\n",
      "Presolve time: 0.02s\n",
      "Presolved: 80 rows, 1500 columns, 3000 nonzeros\n",
      "Variable types: 0 continuous, 1500 integer (1500 binary)\n",
      "Found heuristic solution: objective 1012.0000000\n",
      "\n",
      "Root relaxation: objective 1.116400e+03, 370 iterations, 0.01 seconds (0.00 work units)\n",
      "\n",
      "    Nodes    |    Current Node    |     Objective Bounds      |     Work\n",
      " Expl Unexpl |  Obj  Depth IntInf | Incumbent    BestBd   Gap | It/Node Time\n",
      "\n",
      "     0     0 1116.40000    0   13 1012.00000 1116.40000  10.3%     -    0s\n",
      "H    0     0                    1098.0000000 1116.40000  1.68%     -    0s\n",
      "H    0     0                    1100.0000000 1116.40000  1.49%     -    0s\n",
      "H    0     0                    1110.0000000 1110.00000  0.00%     -    0s\n",
      "     0     0 1110.00000    0   18 1110.00000 1110.00000  0.00%     -    0s\n",
      "\n",
      "Cutting planes:\n",
      "  Gomory: 5\n",
      "  Cover: 10\n",
      "  Clique: 6\n",
      "  MIR: 13\n",
      "  StrongCG: 1\n",
      "  Zero half: 2\n",
      "  Mod-K: 1\n",
      "  RLT: 5\n",
      "\n",
      "Explored 1 nodes (968 simplex iterations) in 0.13 seconds (0.03 work units)\n",
      "Thread count was 8 (of 8 available processors)\n",
      "\n",
      "Solution count 5: 1110 1100 1098 ... 832\n",
      "\n",
      "Optimal solution found (tolerance 1.00e-04)\n",
      "Best objective 1.110000000000e+03, best bound 1.110000000000e+03, gap 0.0000%\n",
      "Cardiovascular Surgery 1 is scheduled on day 2 in room 3\n",
      "Cardiovascular Surgery 2 is scheduled on day 2 in room 1\n",
      "Cardiovascular Surgery 3 is scheduled on day 1 in room 3\n",
      "Cardiovascular Surgery 4 is scheduled on day 1 in room 2\n",
      "Cardiovascular Surgery 5 is scheduled on day 1 in room 2\n",
      "Cardiovascular Surgery 6 is scheduled on day 1 in room 1\n",
      "Cardiovascular Surgery 7 is scheduled on day 2 in room 1\n",
      "Cardiovascular Surgery 8 is scheduled on day 1 in room 3\n",
      "Cardiovascular Surgery 9 is scheduled on day 1 in room 1\n",
      "Cardiovascular Surgery 10 is scheduled on day 2 in room 3\n",
      "Neurological Surgery 1 is scheduled on day 3 in room 3\n",
      "Neurological Surgery 2 is scheduled on day 4 in room 1\n",
      "Neurological Surgery 3 is scheduled on day 5 in room 3\n",
      "Neurological Surgery 4 is scheduled on day 4 in room 2\n",
      "Neurological Surgery 5 is scheduled on day 3 in room 1\n",
      "Neurological Surgery 6 is scheduled on day 4 in room 3\n",
      "Neurological Surgery 7 is scheduled on day 2 in room 2\n",
      "Neurological Surgery 8 is scheduled on day 5 in room 1\n",
      "Neurological Surgery 9 is scheduled on day 3 in room 2\n",
      "Neurological Surgery 10 is scheduled on day 5 in room 2\n",
      "Orthopedic Surgery 1 is scheduled on day 3 in room 2\n",
      "Orthopedic Surgery 2 is scheduled on day 3 in room 1\n",
      "Orthopedic Surgery 3 is scheduled on day 3 in room 3\n",
      "Orthopedic Surgery 4 is scheduled on day 4 in room 3\n",
      "Orthopedic Surgery 5 is scheduled on day 4 in room 1\n",
      "Orthopedic Surgery 6 is scheduled on day 5 in room 3\n",
      "Orthopedic Surgery 7 is scheduled on day 5 in room 2\n",
      "Orthopedic Surgery 8 is scheduled on day 2 in room 2\n",
      "Orthopedic Surgery 9 is scheduled on day 4 in room 2\n",
      "Orthopedic Surgery 10 is scheduled on day 5 in room 1\n",
      "Cosmetic Surgery 1 is scheduled on day 6 in room 2\n",
      "Cosmetic Surgery 2 is scheduled on day 6 in room 3\n",
      "Cosmetic Surgery 3 is scheduled on day 8 in room 3\n",
      "Cosmetic Surgery 4 is scheduled on day 8 in room 3\n",
      "Cosmetic Surgery 5 is scheduled on day 6 in room 3\n",
      "Cosmetic Surgery 6 is scheduled on day 6 in room 1\n",
      "Cosmetic Surgery 7 is scheduled on day 6 in room 1\n",
      "Cosmetic Surgery 8 is scheduled on day 6 in room 2\n",
      "Cosmetic Surgery 9 is scheduled on day 6 in room 2\n",
      "Cosmetic Surgery 10 is scheduled on day 6 in room 2\n",
      "Gastrointestinal Surgery 1 is scheduled on day 7 in room 2\n",
      "Gastrointestinal Surgery 2 is scheduled on day 6 in room 1\n",
      "Gastrointestinal Surgery 3 is scheduled on day 6 in room 3\n",
      "Gastrointestinal Surgery 4 is scheduled on day 7 in room 3\n",
      "Gastrointestinal Surgery 5 is scheduled on day 7 in room 1\n",
      "Gastrointestinal Surgery 6 is scheduled on day 7 in room 3\n",
      "Gastrointestinal Surgery 7 is scheduled on day 8 in room 3\n",
      "Gastrointestinal Surgery 8 is scheduled on day 7 in room 2\n",
      "Gastrointestinal Surgery 9 is scheduled on day 7 in room 1\n",
      "Gastrointestinal Surgery 10 is scheduled on day 8 in room 2\n"
     ]
    }
   ],
   "source": [
    "from gurobipy import Model, GRB\n",
    "\n",
    "# Constants\n",
    "days = 10\n",
    "rooms = 3\n",
    "hours_per_day = 8  # Assuming each operating room is available 8 hours per day\n",
    "\n",
    "# Model\n",
    "m = Model(\"SurgeryScheduling\")\n",
    "\n",
    "# Decision variables: surgery_scheduled[surgery, day, room]\n",
    "surgery_scheduled = m.addVars(surgeries, range(days), range(rooms), vtype=GRB.BINARY, name=\"schedule\")\n",
    "\n",
    "# Define a weight for each day, decreasing over time to prioritize earlier scheduling\n",
    "day_weights = {d: (days - d) for d in range(days)}\n",
    "\n",
    "# Modify the objective function to minimize late cost, incorporating surgery priority and day weight\n",
    "m.setObjective(sum(surgery_scheduled[s, d, r] * surgery_type_attributes[s.split()[0]]['priority'] * day_weights[d]\n",
    "                   for s in surgeries for d in range(days) for r in range(rooms)), GRB.MAXIMIZE)\n",
    "\n",
    "\n",
    "# Constraint: Each surgery can only be scheduled once\n",
    "for s in surgeries:\n",
    "    m.addConstr(sum(surgery_scheduled[s, d, r] for d in range(days) for r in range(rooms)) == 1, f\"OneTime_{s}\")\n",
    "\n",
    "# Constraint: Respect operating room availability (duration and operating hours)\n",
    "for d in range(days):\n",
    "    for r in range(rooms):\n",
    "        m.addConstr(sum(surgery_scheduled[s, d, r] * surgery_type_attributes[s.split()[0]]['duration']\n",
    "                        for s in surgeries) <= hours_per_day, f\"RoomAvailability_{d}_{r}\")\n",
    "\n",
    "# Optimize model\n",
    "m.optimize()\n",
    "\n",
    "# The structure will be: surgery_name: {\"day\": day, \"room\": room}\n",
    "scheduled_surgeries = {}\n",
    "\n",
    "# Populate the dictionary based on the optimization results\n",
    "for s in surgeries:\n",
    "    for d in range(days):\n",
    "        for r in range(rooms):\n",
    "            # Check if the surgery is scheduled based on the decision variable\n",
    "            if surgery_scheduled[s, d, r].X > 0.5:  # Using 0.5 as a threshold to indicate selection\n",
    "                # Store the scheduled day and room for each surgery\n",
    "                scheduled_surgeries[s] = {\"day\": d+1, \"room\": r+1}\n",
    "\n",
    "# Print or use the scheduled_surgeries dictionary as needed\n",
    "for surgery, info in scheduled_surgeries.items():\n",
    "    print(f\"{surgery} is scheduled on day {info['day']} in room {info['room']}\")\n",
    "\n",
    "\n"
   ]
  },
  {
   "cell_type": "code",
   "execution_count": 23,
   "metadata": {},
   "outputs": [
    {
     "name": "stdout",
     "output_type": "stream",
     "text": [
      "                    Surgery  Day  Room            Type  Duration\n",
      "0  Cardiovascular Surgery 1    2     3  Cardiovascular       4.0\n",
      "1  Cardiovascular Surgery 2    2     1  Cardiovascular       4.0\n",
      "2  Cardiovascular Surgery 3    1     3  Cardiovascular       4.0\n",
      "3  Cardiovascular Surgery 4    1     2  Cardiovascular       4.0\n",
      "4  Cardiovascular Surgery 5    1     2  Cardiovascular       4.0\n",
      "               Type Missed Count\n",
      "0    Cardiovascular            0\n",
      "1      Neurological            0\n",
      "2        Orthopedic            0\n",
      "3          Cosmetic            0\n",
      "4  Gastrointestinal            0\n"
     ]
    },
    {
     "name": "stderr",
     "output_type": "stream",
     "text": [
      "C:\\Users\\Agishan\\AppData\\Local\\Temp\\ipykernel_12224\\2541608762.py:21: FutureWarning:\n",
      "\n",
      "The frame.append method is deprecated and will be removed from pandas in a future version. Use pandas.concat instead.\n",
      "\n",
      "C:\\Users\\Agishan\\AppData\\Local\\Temp\\ipykernel_12224\\2541608762.py:21: FutureWarning:\n",
      "\n",
      "The frame.append method is deprecated and will be removed from pandas in a future version. Use pandas.concat instead.\n",
      "\n",
      "C:\\Users\\Agishan\\AppData\\Local\\Temp\\ipykernel_12224\\2541608762.py:21: FutureWarning:\n",
      "\n",
      "The frame.append method is deprecated and will be removed from pandas in a future version. Use pandas.concat instead.\n",
      "\n",
      "C:\\Users\\Agishan\\AppData\\Local\\Temp\\ipykernel_12224\\2541608762.py:21: FutureWarning:\n",
      "\n",
      "The frame.append method is deprecated and will be removed from pandas in a future version. Use pandas.concat instead.\n",
      "\n",
      "C:\\Users\\Agishan\\AppData\\Local\\Temp\\ipykernel_12224\\2541608762.py:21: FutureWarning:\n",
      "\n",
      "The frame.append method is deprecated and will be removed from pandas in a future version. Use pandas.concat instead.\n",
      "\n"
     ]
    }
   ],
   "source": [
    "import pandas as pd\n",
    "\n",
    "# Assuming scheduled_surgeries is already populated with optimization results\n",
    "# Convert the scheduled_surgeries dictionary to a DataFrame\n",
    "df_scheduled = pd.DataFrame([(surgery, info['day'], info['room'], surgery.split()[0])\n",
    "                             for surgery, info in scheduled_surgeries.items()],\n",
    "                            columns=['Surgery', 'Day', 'Room', 'Type'])\n",
    "\n",
    "# Since 'Type' is now directly taken from the surgery name, there's no need to map it again\n",
    "# However, we'll update 'Duration' based on the actual surgery type names\n",
    "df_scheduled['Duration'] = df_scheduled['Type'].apply(lambda x: surgery_type_attributes[x]['duration'])\n",
    "\n",
    "# For missed surgeries, assuming a hypothetical way to identify them,\n",
    "# we will continue with an empty DataFrame as no logic for identifying missed surgeries was provided\n",
    "df_missed = pd.DataFrame(columns=['Type', 'Missed Count'])\n",
    "\n",
    "# Placeholder: Assuming an example logic for missed surgeries could be applied here if available\n",
    "# This example assumes no missed surgeries\n",
    "for type_name in surgery_type_attributes.keys():\n",
    "    missed_count = 0  # Placeholder; actual logic needed to count missed surgeries\n",
    "    df_missed = df_missed.append({'Type': type_name, 'Missed Count': missed_count}, ignore_index=True)\n",
    "\n",
    "# Example output of scheduled surgeries DataFrame\n",
    "print(df_scheduled.head())\n",
    "\n",
    "# Example output for missed surgeries DataFrame (based on placeholder logic, likely empty)\n",
    "print(df_missed)\n"
   ]
  },
  {
   "cell_type": "code",
   "execution_count": 24,
   "metadata": {},
   "outputs": [
    {
     "data": {
      "text/html": [
       "<div>\n",
       "<style scoped>\n",
       "    .dataframe tbody tr th:only-of-type {\n",
       "        vertical-align: middle;\n",
       "    }\n",
       "\n",
       "    .dataframe tbody tr th {\n",
       "        vertical-align: top;\n",
       "    }\n",
       "\n",
       "    .dataframe thead th {\n",
       "        text-align: right;\n",
       "    }\n",
       "</style>\n",
       "<table border=\"1\" class=\"dataframe\">\n",
       "  <thead>\n",
       "    <tr style=\"text-align: right;\">\n",
       "      <th></th>\n",
       "      <th>Surgery</th>\n",
       "      <th>Day</th>\n",
       "      <th>Room</th>\n",
       "      <th>Type</th>\n",
       "      <th>Duration</th>\n",
       "    </tr>\n",
       "  </thead>\n",
       "  <tbody>\n",
       "    <tr>\n",
       "      <th>0</th>\n",
       "      <td>Cardiovascular Surgery 1</td>\n",
       "      <td>2</td>\n",
       "      <td>3</td>\n",
       "      <td>Cardiovascular</td>\n",
       "      <td>4.0</td>\n",
       "    </tr>\n",
       "    <tr>\n",
       "      <th>1</th>\n",
       "      <td>Cardiovascular Surgery 2</td>\n",
       "      <td>2</td>\n",
       "      <td>1</td>\n",
       "      <td>Cardiovascular</td>\n",
       "      <td>4.0</td>\n",
       "    </tr>\n",
       "    <tr>\n",
       "      <th>2</th>\n",
       "      <td>Cardiovascular Surgery 3</td>\n",
       "      <td>1</td>\n",
       "      <td>3</td>\n",
       "      <td>Cardiovascular</td>\n",
       "      <td>4.0</td>\n",
       "    </tr>\n",
       "    <tr>\n",
       "      <th>3</th>\n",
       "      <td>Cardiovascular Surgery 4</td>\n",
       "      <td>1</td>\n",
       "      <td>2</td>\n",
       "      <td>Cardiovascular</td>\n",
       "      <td>4.0</td>\n",
       "    </tr>\n",
       "    <tr>\n",
       "      <th>4</th>\n",
       "      <td>Cardiovascular Surgery 5</td>\n",
       "      <td>1</td>\n",
       "      <td>2</td>\n",
       "      <td>Cardiovascular</td>\n",
       "      <td>4.0</td>\n",
       "    </tr>\n",
       "    <tr>\n",
       "      <th>5</th>\n",
       "      <td>Cardiovascular Surgery 6</td>\n",
       "      <td>1</td>\n",
       "      <td>1</td>\n",
       "      <td>Cardiovascular</td>\n",
       "      <td>4.0</td>\n",
       "    </tr>\n",
       "    <tr>\n",
       "      <th>6</th>\n",
       "      <td>Cardiovascular Surgery 7</td>\n",
       "      <td>2</td>\n",
       "      <td>1</td>\n",
       "      <td>Cardiovascular</td>\n",
       "      <td>4.0</td>\n",
       "    </tr>\n",
       "    <tr>\n",
       "      <th>7</th>\n",
       "      <td>Cardiovascular Surgery 8</td>\n",
       "      <td>1</td>\n",
       "      <td>3</td>\n",
       "      <td>Cardiovascular</td>\n",
       "      <td>4.0</td>\n",
       "    </tr>\n",
       "    <tr>\n",
       "      <th>8</th>\n",
       "      <td>Cardiovascular Surgery 9</td>\n",
       "      <td>1</td>\n",
       "      <td>1</td>\n",
       "      <td>Cardiovascular</td>\n",
       "      <td>4.0</td>\n",
       "    </tr>\n",
       "    <tr>\n",
       "      <th>9</th>\n",
       "      <td>Cardiovascular Surgery 10</td>\n",
       "      <td>2</td>\n",
       "      <td>3</td>\n",
       "      <td>Cardiovascular</td>\n",
       "      <td>4.0</td>\n",
       "    </tr>\n",
       "    <tr>\n",
       "      <th>10</th>\n",
       "      <td>Neurological Surgery 1</td>\n",
       "      <td>3</td>\n",
       "      <td>3</td>\n",
       "      <td>Neurological</td>\n",
       "      <td>5.0</td>\n",
       "    </tr>\n",
       "    <tr>\n",
       "      <th>11</th>\n",
       "      <td>Neurological Surgery 2</td>\n",
       "      <td>4</td>\n",
       "      <td>1</td>\n",
       "      <td>Neurological</td>\n",
       "      <td>5.0</td>\n",
       "    </tr>\n",
       "    <tr>\n",
       "      <th>12</th>\n",
       "      <td>Neurological Surgery 3</td>\n",
       "      <td>5</td>\n",
       "      <td>3</td>\n",
       "      <td>Neurological</td>\n",
       "      <td>5.0</td>\n",
       "    </tr>\n",
       "    <tr>\n",
       "      <th>13</th>\n",
       "      <td>Neurological Surgery 4</td>\n",
       "      <td>4</td>\n",
       "      <td>2</td>\n",
       "      <td>Neurological</td>\n",
       "      <td>5.0</td>\n",
       "    </tr>\n",
       "    <tr>\n",
       "      <th>14</th>\n",
       "      <td>Neurological Surgery 5</td>\n",
       "      <td>3</td>\n",
       "      <td>1</td>\n",
       "      <td>Neurological</td>\n",
       "      <td>5.0</td>\n",
       "    </tr>\n",
       "    <tr>\n",
       "      <th>15</th>\n",
       "      <td>Neurological Surgery 6</td>\n",
       "      <td>4</td>\n",
       "      <td>3</td>\n",
       "      <td>Neurological</td>\n",
       "      <td>5.0</td>\n",
       "    </tr>\n",
       "    <tr>\n",
       "      <th>16</th>\n",
       "      <td>Neurological Surgery 7</td>\n",
       "      <td>2</td>\n",
       "      <td>2</td>\n",
       "      <td>Neurological</td>\n",
       "      <td>5.0</td>\n",
       "    </tr>\n",
       "    <tr>\n",
       "      <th>17</th>\n",
       "      <td>Neurological Surgery 8</td>\n",
       "      <td>5</td>\n",
       "      <td>1</td>\n",
       "      <td>Neurological</td>\n",
       "      <td>5.0</td>\n",
       "    </tr>\n",
       "    <tr>\n",
       "      <th>18</th>\n",
       "      <td>Neurological Surgery 9</td>\n",
       "      <td>3</td>\n",
       "      <td>2</td>\n",
       "      <td>Neurological</td>\n",
       "      <td>5.0</td>\n",
       "    </tr>\n",
       "    <tr>\n",
       "      <th>19</th>\n",
       "      <td>Neurological Surgery 10</td>\n",
       "      <td>5</td>\n",
       "      <td>2</td>\n",
       "      <td>Neurological</td>\n",
       "      <td>5.0</td>\n",
       "    </tr>\n",
       "    <tr>\n",
       "      <th>20</th>\n",
       "      <td>Orthopedic Surgery 1</td>\n",
       "      <td>3</td>\n",
       "      <td>2</td>\n",
       "      <td>Orthopedic</td>\n",
       "      <td>3.0</td>\n",
       "    </tr>\n",
       "    <tr>\n",
       "      <th>21</th>\n",
       "      <td>Orthopedic Surgery 2</td>\n",
       "      <td>3</td>\n",
       "      <td>1</td>\n",
       "      <td>Orthopedic</td>\n",
       "      <td>3.0</td>\n",
       "    </tr>\n",
       "    <tr>\n",
       "      <th>22</th>\n",
       "      <td>Orthopedic Surgery 3</td>\n",
       "      <td>3</td>\n",
       "      <td>3</td>\n",
       "      <td>Orthopedic</td>\n",
       "      <td>3.0</td>\n",
       "    </tr>\n",
       "    <tr>\n",
       "      <th>23</th>\n",
       "      <td>Orthopedic Surgery 4</td>\n",
       "      <td>4</td>\n",
       "      <td>3</td>\n",
       "      <td>Orthopedic</td>\n",
       "      <td>3.0</td>\n",
       "    </tr>\n",
       "    <tr>\n",
       "      <th>24</th>\n",
       "      <td>Orthopedic Surgery 5</td>\n",
       "      <td>4</td>\n",
       "      <td>1</td>\n",
       "      <td>Orthopedic</td>\n",
       "      <td>3.0</td>\n",
       "    </tr>\n",
       "    <tr>\n",
       "      <th>25</th>\n",
       "      <td>Orthopedic Surgery 6</td>\n",
       "      <td>5</td>\n",
       "      <td>3</td>\n",
       "      <td>Orthopedic</td>\n",
       "      <td>3.0</td>\n",
       "    </tr>\n",
       "    <tr>\n",
       "      <th>26</th>\n",
       "      <td>Orthopedic Surgery 7</td>\n",
       "      <td>5</td>\n",
       "      <td>2</td>\n",
       "      <td>Orthopedic</td>\n",
       "      <td>3.0</td>\n",
       "    </tr>\n",
       "    <tr>\n",
       "      <th>27</th>\n",
       "      <td>Orthopedic Surgery 8</td>\n",
       "      <td>2</td>\n",
       "      <td>2</td>\n",
       "      <td>Orthopedic</td>\n",
       "      <td>3.0</td>\n",
       "    </tr>\n",
       "    <tr>\n",
       "      <th>28</th>\n",
       "      <td>Orthopedic Surgery 9</td>\n",
       "      <td>4</td>\n",
       "      <td>2</td>\n",
       "      <td>Orthopedic</td>\n",
       "      <td>3.0</td>\n",
       "    </tr>\n",
       "    <tr>\n",
       "      <th>29</th>\n",
       "      <td>Orthopedic Surgery 10</td>\n",
       "      <td>5</td>\n",
       "      <td>1</td>\n",
       "      <td>Orthopedic</td>\n",
       "      <td>3.0</td>\n",
       "    </tr>\n",
       "    <tr>\n",
       "      <th>30</th>\n",
       "      <td>Cosmetic Surgery 1</td>\n",
       "      <td>6</td>\n",
       "      <td>2</td>\n",
       "      <td>Cosmetic</td>\n",
       "      <td>2.0</td>\n",
       "    </tr>\n",
       "    <tr>\n",
       "      <th>31</th>\n",
       "      <td>Cosmetic Surgery 2</td>\n",
       "      <td>6</td>\n",
       "      <td>3</td>\n",
       "      <td>Cosmetic</td>\n",
       "      <td>2.0</td>\n",
       "    </tr>\n",
       "    <tr>\n",
       "      <th>32</th>\n",
       "      <td>Cosmetic Surgery 3</td>\n",
       "      <td>8</td>\n",
       "      <td>3</td>\n",
       "      <td>Cosmetic</td>\n",
       "      <td>2.0</td>\n",
       "    </tr>\n",
       "    <tr>\n",
       "      <th>33</th>\n",
       "      <td>Cosmetic Surgery 4</td>\n",
       "      <td>8</td>\n",
       "      <td>3</td>\n",
       "      <td>Cosmetic</td>\n",
       "      <td>2.0</td>\n",
       "    </tr>\n",
       "    <tr>\n",
       "      <th>34</th>\n",
       "      <td>Cosmetic Surgery 5</td>\n",
       "      <td>6</td>\n",
       "      <td>3</td>\n",
       "      <td>Cosmetic</td>\n",
       "      <td>2.0</td>\n",
       "    </tr>\n",
       "    <tr>\n",
       "      <th>35</th>\n",
       "      <td>Cosmetic Surgery 6</td>\n",
       "      <td>6</td>\n",
       "      <td>1</td>\n",
       "      <td>Cosmetic</td>\n",
       "      <td>2.0</td>\n",
       "    </tr>\n",
       "    <tr>\n",
       "      <th>36</th>\n",
       "      <td>Cosmetic Surgery 7</td>\n",
       "      <td>6</td>\n",
       "      <td>1</td>\n",
       "      <td>Cosmetic</td>\n",
       "      <td>2.0</td>\n",
       "    </tr>\n",
       "    <tr>\n",
       "      <th>37</th>\n",
       "      <td>Cosmetic Surgery 8</td>\n",
       "      <td>6</td>\n",
       "      <td>2</td>\n",
       "      <td>Cosmetic</td>\n",
       "      <td>2.0</td>\n",
       "    </tr>\n",
       "    <tr>\n",
       "      <th>38</th>\n",
       "      <td>Cosmetic Surgery 9</td>\n",
       "      <td>6</td>\n",
       "      <td>2</td>\n",
       "      <td>Cosmetic</td>\n",
       "      <td>2.0</td>\n",
       "    </tr>\n",
       "    <tr>\n",
       "      <th>39</th>\n",
       "      <td>Cosmetic Surgery 10</td>\n",
       "      <td>6</td>\n",
       "      <td>2</td>\n",
       "      <td>Cosmetic</td>\n",
       "      <td>2.0</td>\n",
       "    </tr>\n",
       "    <tr>\n",
       "      <th>40</th>\n",
       "      <td>Gastrointestinal Surgery 1</td>\n",
       "      <td>7</td>\n",
       "      <td>2</td>\n",
       "      <td>Gastrointestinal</td>\n",
       "      <td>3.5</td>\n",
       "    </tr>\n",
       "    <tr>\n",
       "      <th>41</th>\n",
       "      <td>Gastrointestinal Surgery 2</td>\n",
       "      <td>6</td>\n",
       "      <td>1</td>\n",
       "      <td>Gastrointestinal</td>\n",
       "      <td>3.5</td>\n",
       "    </tr>\n",
       "    <tr>\n",
       "      <th>42</th>\n",
       "      <td>Gastrointestinal Surgery 3</td>\n",
       "      <td>6</td>\n",
       "      <td>3</td>\n",
       "      <td>Gastrointestinal</td>\n",
       "      <td>3.5</td>\n",
       "    </tr>\n",
       "    <tr>\n",
       "      <th>43</th>\n",
       "      <td>Gastrointestinal Surgery 4</td>\n",
       "      <td>7</td>\n",
       "      <td>3</td>\n",
       "      <td>Gastrointestinal</td>\n",
       "      <td>3.5</td>\n",
       "    </tr>\n",
       "    <tr>\n",
       "      <th>44</th>\n",
       "      <td>Gastrointestinal Surgery 5</td>\n",
       "      <td>7</td>\n",
       "      <td>1</td>\n",
       "      <td>Gastrointestinal</td>\n",
       "      <td>3.5</td>\n",
       "    </tr>\n",
       "    <tr>\n",
       "      <th>45</th>\n",
       "      <td>Gastrointestinal Surgery 6</td>\n",
       "      <td>7</td>\n",
       "      <td>3</td>\n",
       "      <td>Gastrointestinal</td>\n",
       "      <td>3.5</td>\n",
       "    </tr>\n",
       "    <tr>\n",
       "      <th>46</th>\n",
       "      <td>Gastrointestinal Surgery 7</td>\n",
       "      <td>8</td>\n",
       "      <td>3</td>\n",
       "      <td>Gastrointestinal</td>\n",
       "      <td>3.5</td>\n",
       "    </tr>\n",
       "    <tr>\n",
       "      <th>47</th>\n",
       "      <td>Gastrointestinal Surgery 8</td>\n",
       "      <td>7</td>\n",
       "      <td>2</td>\n",
       "      <td>Gastrointestinal</td>\n",
       "      <td>3.5</td>\n",
       "    </tr>\n",
       "    <tr>\n",
       "      <th>48</th>\n",
       "      <td>Gastrointestinal Surgery 9</td>\n",
       "      <td>7</td>\n",
       "      <td>1</td>\n",
       "      <td>Gastrointestinal</td>\n",
       "      <td>3.5</td>\n",
       "    </tr>\n",
       "    <tr>\n",
       "      <th>49</th>\n",
       "      <td>Gastrointestinal Surgery 10</td>\n",
       "      <td>8</td>\n",
       "      <td>2</td>\n",
       "      <td>Gastrointestinal</td>\n",
       "      <td>3.5</td>\n",
       "    </tr>\n",
       "  </tbody>\n",
       "</table>\n",
       "</div>"
      ],
      "text/plain": [
       "                        Surgery  Day  Room              Type  Duration\n",
       "0      Cardiovascular Surgery 1    2     3    Cardiovascular       4.0\n",
       "1      Cardiovascular Surgery 2    2     1    Cardiovascular       4.0\n",
       "2      Cardiovascular Surgery 3    1     3    Cardiovascular       4.0\n",
       "3      Cardiovascular Surgery 4    1     2    Cardiovascular       4.0\n",
       "4      Cardiovascular Surgery 5    1     2    Cardiovascular       4.0\n",
       "5      Cardiovascular Surgery 6    1     1    Cardiovascular       4.0\n",
       "6      Cardiovascular Surgery 7    2     1    Cardiovascular       4.0\n",
       "7      Cardiovascular Surgery 8    1     3    Cardiovascular       4.0\n",
       "8      Cardiovascular Surgery 9    1     1    Cardiovascular       4.0\n",
       "9     Cardiovascular Surgery 10    2     3    Cardiovascular       4.0\n",
       "10       Neurological Surgery 1    3     3      Neurological       5.0\n",
       "11       Neurological Surgery 2    4     1      Neurological       5.0\n",
       "12       Neurological Surgery 3    5     3      Neurological       5.0\n",
       "13       Neurological Surgery 4    4     2      Neurological       5.0\n",
       "14       Neurological Surgery 5    3     1      Neurological       5.0\n",
       "15       Neurological Surgery 6    4     3      Neurological       5.0\n",
       "16       Neurological Surgery 7    2     2      Neurological       5.0\n",
       "17       Neurological Surgery 8    5     1      Neurological       5.0\n",
       "18       Neurological Surgery 9    3     2      Neurological       5.0\n",
       "19      Neurological Surgery 10    5     2      Neurological       5.0\n",
       "20         Orthopedic Surgery 1    3     2        Orthopedic       3.0\n",
       "21         Orthopedic Surgery 2    3     1        Orthopedic       3.0\n",
       "22         Orthopedic Surgery 3    3     3        Orthopedic       3.0\n",
       "23         Orthopedic Surgery 4    4     3        Orthopedic       3.0\n",
       "24         Orthopedic Surgery 5    4     1        Orthopedic       3.0\n",
       "25         Orthopedic Surgery 6    5     3        Orthopedic       3.0\n",
       "26         Orthopedic Surgery 7    5     2        Orthopedic       3.0\n",
       "27         Orthopedic Surgery 8    2     2        Orthopedic       3.0\n",
       "28         Orthopedic Surgery 9    4     2        Orthopedic       3.0\n",
       "29        Orthopedic Surgery 10    5     1        Orthopedic       3.0\n",
       "30           Cosmetic Surgery 1    6     2          Cosmetic       2.0\n",
       "31           Cosmetic Surgery 2    6     3          Cosmetic       2.0\n",
       "32           Cosmetic Surgery 3    8     3          Cosmetic       2.0\n",
       "33           Cosmetic Surgery 4    8     3          Cosmetic       2.0\n",
       "34           Cosmetic Surgery 5    6     3          Cosmetic       2.0\n",
       "35           Cosmetic Surgery 6    6     1          Cosmetic       2.0\n",
       "36           Cosmetic Surgery 7    6     1          Cosmetic       2.0\n",
       "37           Cosmetic Surgery 8    6     2          Cosmetic       2.0\n",
       "38           Cosmetic Surgery 9    6     2          Cosmetic       2.0\n",
       "39          Cosmetic Surgery 10    6     2          Cosmetic       2.0\n",
       "40   Gastrointestinal Surgery 1    7     2  Gastrointestinal       3.5\n",
       "41   Gastrointestinal Surgery 2    6     1  Gastrointestinal       3.5\n",
       "42   Gastrointestinal Surgery 3    6     3  Gastrointestinal       3.5\n",
       "43   Gastrointestinal Surgery 4    7     3  Gastrointestinal       3.5\n",
       "44   Gastrointestinal Surgery 5    7     1  Gastrointestinal       3.5\n",
       "45   Gastrointestinal Surgery 6    7     3  Gastrointestinal       3.5\n",
       "46   Gastrointestinal Surgery 7    8     3  Gastrointestinal       3.5\n",
       "47   Gastrointestinal Surgery 8    7     2  Gastrointestinal       3.5\n",
       "48   Gastrointestinal Surgery 9    7     1  Gastrointestinal       3.5\n",
       "49  Gastrointestinal Surgery 10    8     2  Gastrointestinal       3.5"
      ]
     },
     "execution_count": 24,
     "metadata": {},
     "output_type": "execute_result"
    }
   ],
   "source": [
    "df_scheduled"
   ]
  },
  {
   "cell_type": "code",
   "execution_count": 26,
   "metadata": {},
   "outputs": [
    {
     "data": {
      "application/vnd.plotly.v1+json": {
       "config": {
        "plotlyServerURL": "https://plot.ly"
       },
       "data": [
        {
         "hoverinfo": "text",
         "hovertext": [
          "Cardiovascular: 2",
          "Cardiovascular: 2",
          "Neurological: 1, Orthopedic: 1",
          "Neurological: 1, Orthopedic: 1",
          "Neurological: 1, Orthopedic: 1",
          "Cosmetic: 2, Gastrointestinal: 1",
          "Gastrointestinal: 2"
         ],
         "name": "Room 1",
         "text": [
          "Total Surgeries: 2",
          "Total Surgeries: 2",
          "Total Surgeries: 2",
          "Total Surgeries: 2",
          "Total Surgeries: 2",
          "Total Surgeries: 2",
          "Total Surgeries: 2"
         ],
         "textposition": "auto",
         "type": "bar",
         "x": [
          1,
          2,
          3,
          4,
          5,
          6,
          7
         ],
         "y": [
          8,
          8,
          8,
          8,
          8,
          7.5,
          7
         ]
        },
        {
         "hoverinfo": "text",
         "hovertext": [
          "Cardiovascular: 2",
          "Neurological: 1, Orthopedic: 1",
          "Neurological: 1, Orthopedic: 1",
          "Neurological: 1, Orthopedic: 1",
          "Neurological: 1, Orthopedic: 1",
          "Cosmetic: 4",
          "Gastrointestinal: 2",
          "Gastrointestinal: 1"
         ],
         "name": "Room 2",
         "text": [
          "Total Surgeries: 2",
          "Total Surgeries: 2",
          "Total Surgeries: 2",
          "Total Surgeries: 2",
          "Total Surgeries: 2",
          "Total Surgeries: 2",
          "Total Surgeries: 2",
          "Total Surgeries: 2"
         ],
         "textposition": "auto",
         "type": "bar",
         "x": [
          1,
          2,
          3,
          4,
          5,
          6,
          7,
          8
         ],
         "y": [
          8,
          8,
          8,
          8,
          8,
          8,
          7,
          3.5
         ]
        },
        {
         "hoverinfo": "text",
         "hovertext": [
          "Cardiovascular: 2",
          "Cardiovascular: 2",
          "Neurological: 1, Orthopedic: 1",
          "Neurological: 1, Orthopedic: 1",
          "Neurological: 1, Orthopedic: 1",
          "Cosmetic: 2, Gastrointestinal: 1",
          "Gastrointestinal: 2",
          "Cosmetic: 2, Gastrointestinal: 1"
         ],
         "name": "Room 3",
         "text": [
          "Total Surgeries: 2",
          "Total Surgeries: 2",
          "Total Surgeries: 2",
          "Total Surgeries: 2",
          "Total Surgeries: 2",
          "Total Surgeries: 2",
          "Total Surgeries: 2",
          "Total Surgeries: 2"
         ],
         "textposition": "auto",
         "type": "bar",
         "x": [
          1,
          2,
          3,
          4,
          5,
          6,
          7,
          8
         ],
         "y": [
          8,
          8,
          8,
          8,
          8,
          7.5,
          7,
          7.5
         ]
        }
       ],
       "layout": {
        "annotations": [
         {
          "showarrow": false,
          "text": "8-hour limit",
          "x": 1,
          "xanchor": "right",
          "xref": "x domain",
          "y": 8,
          "yanchor": "top",
          "yref": "y"
         }
        ],
        "bargap": 0.15,
        "barmode": "group",
        "legend": {
         "title": {
          "text": "Operating Room"
         },
         "x": 0.01,
         "xanchor": "left",
         "y": 0.99,
         "yanchor": "top"
        },
        "shapes": [
         {
          "line": {
           "dash": "dot"
          },
          "type": "line",
          "x0": 0,
          "x1": 1,
          "xref": "x domain",
          "y0": 8,
          "y1": 8,
          "yref": "y"
         }
        ],
        "template": {
         "data": {
          "bar": [
           {
            "error_x": {
             "color": "#2a3f5f"
            },
            "error_y": {
             "color": "#2a3f5f"
            },
            "marker": {
             "line": {
              "color": "#E5ECF6",
              "width": 0.5
             },
             "pattern": {
              "fillmode": "overlay",
              "size": 10,
              "solidity": 0.2
             }
            },
            "type": "bar"
           }
          ],
          "barpolar": [
           {
            "marker": {
             "line": {
              "color": "#E5ECF6",
              "width": 0.5
             },
             "pattern": {
              "fillmode": "overlay",
              "size": 10,
              "solidity": 0.2
             }
            },
            "type": "barpolar"
           }
          ],
          "carpet": [
           {
            "aaxis": {
             "endlinecolor": "#2a3f5f",
             "gridcolor": "white",
             "linecolor": "white",
             "minorgridcolor": "white",
             "startlinecolor": "#2a3f5f"
            },
            "baxis": {
             "endlinecolor": "#2a3f5f",
             "gridcolor": "white",
             "linecolor": "white",
             "minorgridcolor": "white",
             "startlinecolor": "#2a3f5f"
            },
            "type": "carpet"
           }
          ],
          "choropleth": [
           {
            "colorbar": {
             "outlinewidth": 0,
             "ticks": ""
            },
            "type": "choropleth"
           }
          ],
          "contour": [
           {
            "colorbar": {
             "outlinewidth": 0,
             "ticks": ""
            },
            "colorscale": [
             [
              0,
              "#0d0887"
             ],
             [
              0.1111111111111111,
              "#46039f"
             ],
             [
              0.2222222222222222,
              "#7201a8"
             ],
             [
              0.3333333333333333,
              "#9c179e"
             ],
             [
              0.4444444444444444,
              "#bd3786"
             ],
             [
              0.5555555555555556,
              "#d8576b"
             ],
             [
              0.6666666666666666,
              "#ed7953"
             ],
             [
              0.7777777777777778,
              "#fb9f3a"
             ],
             [
              0.8888888888888888,
              "#fdca26"
             ],
             [
              1,
              "#f0f921"
             ]
            ],
            "type": "contour"
           }
          ],
          "contourcarpet": [
           {
            "colorbar": {
             "outlinewidth": 0,
             "ticks": ""
            },
            "type": "contourcarpet"
           }
          ],
          "heatmap": [
           {
            "colorbar": {
             "outlinewidth": 0,
             "ticks": ""
            },
            "colorscale": [
             [
              0,
              "#0d0887"
             ],
             [
              0.1111111111111111,
              "#46039f"
             ],
             [
              0.2222222222222222,
              "#7201a8"
             ],
             [
              0.3333333333333333,
              "#9c179e"
             ],
             [
              0.4444444444444444,
              "#bd3786"
             ],
             [
              0.5555555555555556,
              "#d8576b"
             ],
             [
              0.6666666666666666,
              "#ed7953"
             ],
             [
              0.7777777777777778,
              "#fb9f3a"
             ],
             [
              0.8888888888888888,
              "#fdca26"
             ],
             [
              1,
              "#f0f921"
             ]
            ],
            "type": "heatmap"
           }
          ],
          "heatmapgl": [
           {
            "colorbar": {
             "outlinewidth": 0,
             "ticks": ""
            },
            "colorscale": [
             [
              0,
              "#0d0887"
             ],
             [
              0.1111111111111111,
              "#46039f"
             ],
             [
              0.2222222222222222,
              "#7201a8"
             ],
             [
              0.3333333333333333,
              "#9c179e"
             ],
             [
              0.4444444444444444,
              "#bd3786"
             ],
             [
              0.5555555555555556,
              "#d8576b"
             ],
             [
              0.6666666666666666,
              "#ed7953"
             ],
             [
              0.7777777777777778,
              "#fb9f3a"
             ],
             [
              0.8888888888888888,
              "#fdca26"
             ],
             [
              1,
              "#f0f921"
             ]
            ],
            "type": "heatmapgl"
           }
          ],
          "histogram": [
           {
            "marker": {
             "pattern": {
              "fillmode": "overlay",
              "size": 10,
              "solidity": 0.2
             }
            },
            "type": "histogram"
           }
          ],
          "histogram2d": [
           {
            "colorbar": {
             "outlinewidth": 0,
             "ticks": ""
            },
            "colorscale": [
             [
              0,
              "#0d0887"
             ],
             [
              0.1111111111111111,
              "#46039f"
             ],
             [
              0.2222222222222222,
              "#7201a8"
             ],
             [
              0.3333333333333333,
              "#9c179e"
             ],
             [
              0.4444444444444444,
              "#bd3786"
             ],
             [
              0.5555555555555556,
              "#d8576b"
             ],
             [
              0.6666666666666666,
              "#ed7953"
             ],
             [
              0.7777777777777778,
              "#fb9f3a"
             ],
             [
              0.8888888888888888,
              "#fdca26"
             ],
             [
              1,
              "#f0f921"
             ]
            ],
            "type": "histogram2d"
           }
          ],
          "histogram2dcontour": [
           {
            "colorbar": {
             "outlinewidth": 0,
             "ticks": ""
            },
            "colorscale": [
             [
              0,
              "#0d0887"
             ],
             [
              0.1111111111111111,
              "#46039f"
             ],
             [
              0.2222222222222222,
              "#7201a8"
             ],
             [
              0.3333333333333333,
              "#9c179e"
             ],
             [
              0.4444444444444444,
              "#bd3786"
             ],
             [
              0.5555555555555556,
              "#d8576b"
             ],
             [
              0.6666666666666666,
              "#ed7953"
             ],
             [
              0.7777777777777778,
              "#fb9f3a"
             ],
             [
              0.8888888888888888,
              "#fdca26"
             ],
             [
              1,
              "#f0f921"
             ]
            ],
            "type": "histogram2dcontour"
           }
          ],
          "mesh3d": [
           {
            "colorbar": {
             "outlinewidth": 0,
             "ticks": ""
            },
            "type": "mesh3d"
           }
          ],
          "parcoords": [
           {
            "line": {
             "colorbar": {
              "outlinewidth": 0,
              "ticks": ""
             }
            },
            "type": "parcoords"
           }
          ],
          "pie": [
           {
            "automargin": true,
            "type": "pie"
           }
          ],
          "scatter": [
           {
            "fillpattern": {
             "fillmode": "overlay",
             "size": 10,
             "solidity": 0.2
            },
            "type": "scatter"
           }
          ],
          "scatter3d": [
           {
            "line": {
             "colorbar": {
              "outlinewidth": 0,
              "ticks": ""
             }
            },
            "marker": {
             "colorbar": {
              "outlinewidth": 0,
              "ticks": ""
             }
            },
            "type": "scatter3d"
           }
          ],
          "scattercarpet": [
           {
            "marker": {
             "colorbar": {
              "outlinewidth": 0,
              "ticks": ""
             }
            },
            "type": "scattercarpet"
           }
          ],
          "scattergeo": [
           {
            "marker": {
             "colorbar": {
              "outlinewidth": 0,
              "ticks": ""
             }
            },
            "type": "scattergeo"
           }
          ],
          "scattergl": [
           {
            "marker": {
             "colorbar": {
              "outlinewidth": 0,
              "ticks": ""
             }
            },
            "type": "scattergl"
           }
          ],
          "scattermapbox": [
           {
            "marker": {
             "colorbar": {
              "outlinewidth": 0,
              "ticks": ""
             }
            },
            "type": "scattermapbox"
           }
          ],
          "scatterpolar": [
           {
            "marker": {
             "colorbar": {
              "outlinewidth": 0,
              "ticks": ""
             }
            },
            "type": "scatterpolar"
           }
          ],
          "scatterpolargl": [
           {
            "marker": {
             "colorbar": {
              "outlinewidth": 0,
              "ticks": ""
             }
            },
            "type": "scatterpolargl"
           }
          ],
          "scatterternary": [
           {
            "marker": {
             "colorbar": {
              "outlinewidth": 0,
              "ticks": ""
             }
            },
            "type": "scatterternary"
           }
          ],
          "surface": [
           {
            "colorbar": {
             "outlinewidth": 0,
             "ticks": ""
            },
            "colorscale": [
             [
              0,
              "#0d0887"
             ],
             [
              0.1111111111111111,
              "#46039f"
             ],
             [
              0.2222222222222222,
              "#7201a8"
             ],
             [
              0.3333333333333333,
              "#9c179e"
             ],
             [
              0.4444444444444444,
              "#bd3786"
             ],
             [
              0.5555555555555556,
              "#d8576b"
             ],
             [
              0.6666666666666666,
              "#ed7953"
             ],
             [
              0.7777777777777778,
              "#fb9f3a"
             ],
             [
              0.8888888888888888,
              "#fdca26"
             ],
             [
              1,
              "#f0f921"
             ]
            ],
            "type": "surface"
           }
          ],
          "table": [
           {
            "cells": {
             "fill": {
              "color": "#EBF0F8"
             },
             "line": {
              "color": "white"
             }
            },
            "header": {
             "fill": {
              "color": "#C8D4E3"
             },
             "line": {
              "color": "white"
             }
            },
            "type": "table"
           }
          ]
         },
         "layout": {
          "annotationdefaults": {
           "arrowcolor": "#2a3f5f",
           "arrowhead": 0,
           "arrowwidth": 1
          },
          "autotypenumbers": "strict",
          "coloraxis": {
           "colorbar": {
            "outlinewidth": 0,
            "ticks": ""
           }
          },
          "colorscale": {
           "diverging": [
            [
             0,
             "#8e0152"
            ],
            [
             0.1,
             "#c51b7d"
            ],
            [
             0.2,
             "#de77ae"
            ],
            [
             0.3,
             "#f1b6da"
            ],
            [
             0.4,
             "#fde0ef"
            ],
            [
             0.5,
             "#f7f7f7"
            ],
            [
             0.6,
             "#e6f5d0"
            ],
            [
             0.7,
             "#b8e186"
            ],
            [
             0.8,
             "#7fbc41"
            ],
            [
             0.9,
             "#4d9221"
            ],
            [
             1,
             "#276419"
            ]
           ],
           "sequential": [
            [
             0,
             "#0d0887"
            ],
            [
             0.1111111111111111,
             "#46039f"
            ],
            [
             0.2222222222222222,
             "#7201a8"
            ],
            [
             0.3333333333333333,
             "#9c179e"
            ],
            [
             0.4444444444444444,
             "#bd3786"
            ],
            [
             0.5555555555555556,
             "#d8576b"
            ],
            [
             0.6666666666666666,
             "#ed7953"
            ],
            [
             0.7777777777777778,
             "#fb9f3a"
            ],
            [
             0.8888888888888888,
             "#fdca26"
            ],
            [
             1,
             "#f0f921"
            ]
           ],
           "sequentialminus": [
            [
             0,
             "#0d0887"
            ],
            [
             0.1111111111111111,
             "#46039f"
            ],
            [
             0.2222222222222222,
             "#7201a8"
            ],
            [
             0.3333333333333333,
             "#9c179e"
            ],
            [
             0.4444444444444444,
             "#bd3786"
            ],
            [
             0.5555555555555556,
             "#d8576b"
            ],
            [
             0.6666666666666666,
             "#ed7953"
            ],
            [
             0.7777777777777778,
             "#fb9f3a"
            ],
            [
             0.8888888888888888,
             "#fdca26"
            ],
            [
             1,
             "#f0f921"
            ]
           ]
          },
          "colorway": [
           "#636efa",
           "#EF553B",
           "#00cc96",
           "#ab63fa",
           "#FFA15A",
           "#19d3f3",
           "#FF6692",
           "#B6E880",
           "#FF97FF",
           "#FECB52"
          ],
          "font": {
           "color": "#2a3f5f"
          },
          "geo": {
           "bgcolor": "white",
           "lakecolor": "white",
           "landcolor": "#E5ECF6",
           "showlakes": true,
           "showland": true,
           "subunitcolor": "white"
          },
          "hoverlabel": {
           "align": "left"
          },
          "hovermode": "closest",
          "mapbox": {
           "style": "light"
          },
          "paper_bgcolor": "white",
          "plot_bgcolor": "#E5ECF6",
          "polar": {
           "angularaxis": {
            "gridcolor": "white",
            "linecolor": "white",
            "ticks": ""
           },
           "bgcolor": "#E5ECF6",
           "radialaxis": {
            "gridcolor": "white",
            "linecolor": "white",
            "ticks": ""
           }
          },
          "scene": {
           "xaxis": {
            "backgroundcolor": "#E5ECF6",
            "gridcolor": "white",
            "gridwidth": 2,
            "linecolor": "white",
            "showbackground": true,
            "ticks": "",
            "zerolinecolor": "white"
           },
           "yaxis": {
            "backgroundcolor": "#E5ECF6",
            "gridcolor": "white",
            "gridwidth": 2,
            "linecolor": "white",
            "showbackground": true,
            "ticks": "",
            "zerolinecolor": "white"
           },
           "zaxis": {
            "backgroundcolor": "#E5ECF6",
            "gridcolor": "white",
            "gridwidth": 2,
            "linecolor": "white",
            "showbackground": true,
            "ticks": "",
            "zerolinecolor": "white"
           }
          },
          "shapedefaults": {
           "line": {
            "color": "#2a3f5f"
           }
          },
          "ternary": {
           "aaxis": {
            "gridcolor": "white",
            "linecolor": "white",
            "ticks": ""
           },
           "baxis": {
            "gridcolor": "white",
            "linecolor": "white",
            "ticks": ""
           },
           "bgcolor": "#E5ECF6",
           "caxis": {
            "gridcolor": "white",
            "linecolor": "white",
            "ticks": ""
           }
          },
          "title": {
           "x": 0.05
          },
          "xaxis": {
           "automargin": true,
           "gridcolor": "white",
           "linecolor": "white",
           "ticks": "",
           "title": {
            "standoff": 15
           },
           "zerolinecolor": "white",
           "zerolinewidth": 2
          },
          "yaxis": {
           "automargin": true,
           "gridcolor": "white",
           "linecolor": "white",
           "ticks": "",
           "title": {
            "standoff": 15
           },
           "zerolinecolor": "white",
           "zerolinewidth": 2
          }
         }
        },
        "title": {
         "text": "Operating Room Utilization by Day"
        },
        "xaxis": {
         "title": {
          "text": "Day"
         }
        },
        "yaxis": {
         "title": {
          "text": "Hours Used"
         }
        }
       }
      }
     },
     "metadata": {},
     "output_type": "display_data"
    },
    {
     "data": {
      "application/vnd.plotly.v1+json": {
       "config": {
        "plotlyServerURL": "https://plot.ly"
       },
       "data": [
        {
         "alignmentgroup": "True",
         "hovertemplate": "Surgery Type=%{x}<br>Number of Missed Surgeries=%{text}<extra></extra>",
         "legendgroup": "",
         "marker": {
          "color": "#636efa",
          "pattern": {
           "shape": ""
          }
         },
         "name": "",
         "offsetgroup": "",
         "orientation": "v",
         "showlegend": false,
         "text": [
          0,
          0,
          0,
          0,
          0
         ],
         "textposition": "auto",
         "type": "bar",
         "x": [
          "Cardiovascular",
          "Neurological",
          "Orthopedic",
          "Cosmetic",
          "Gastrointestinal"
         ],
         "xaxis": "x",
         "y": [
          0,
          0,
          0,
          0,
          0
         ],
         "yaxis": "y"
        }
       ],
       "layout": {
        "barmode": "relative",
        "legend": {
         "title": {
          "text": "Surgery Type"
         },
         "tracegroupgap": 0
        },
        "template": {
         "data": {
          "bar": [
           {
            "error_x": {
             "color": "#2a3f5f"
            },
            "error_y": {
             "color": "#2a3f5f"
            },
            "marker": {
             "line": {
              "color": "#E5ECF6",
              "width": 0.5
             },
             "pattern": {
              "fillmode": "overlay",
              "size": 10,
              "solidity": 0.2
             }
            },
            "type": "bar"
           }
          ],
          "barpolar": [
           {
            "marker": {
             "line": {
              "color": "#E5ECF6",
              "width": 0.5
             },
             "pattern": {
              "fillmode": "overlay",
              "size": 10,
              "solidity": 0.2
             }
            },
            "type": "barpolar"
           }
          ],
          "carpet": [
           {
            "aaxis": {
             "endlinecolor": "#2a3f5f",
             "gridcolor": "white",
             "linecolor": "white",
             "minorgridcolor": "white",
             "startlinecolor": "#2a3f5f"
            },
            "baxis": {
             "endlinecolor": "#2a3f5f",
             "gridcolor": "white",
             "linecolor": "white",
             "minorgridcolor": "white",
             "startlinecolor": "#2a3f5f"
            },
            "type": "carpet"
           }
          ],
          "choropleth": [
           {
            "colorbar": {
             "outlinewidth": 0,
             "ticks": ""
            },
            "type": "choropleth"
           }
          ],
          "contour": [
           {
            "colorbar": {
             "outlinewidth": 0,
             "ticks": ""
            },
            "colorscale": [
             [
              0,
              "#0d0887"
             ],
             [
              0.1111111111111111,
              "#46039f"
             ],
             [
              0.2222222222222222,
              "#7201a8"
             ],
             [
              0.3333333333333333,
              "#9c179e"
             ],
             [
              0.4444444444444444,
              "#bd3786"
             ],
             [
              0.5555555555555556,
              "#d8576b"
             ],
             [
              0.6666666666666666,
              "#ed7953"
             ],
             [
              0.7777777777777778,
              "#fb9f3a"
             ],
             [
              0.8888888888888888,
              "#fdca26"
             ],
             [
              1,
              "#f0f921"
             ]
            ],
            "type": "contour"
           }
          ],
          "contourcarpet": [
           {
            "colorbar": {
             "outlinewidth": 0,
             "ticks": ""
            },
            "type": "contourcarpet"
           }
          ],
          "heatmap": [
           {
            "colorbar": {
             "outlinewidth": 0,
             "ticks": ""
            },
            "colorscale": [
             [
              0,
              "#0d0887"
             ],
             [
              0.1111111111111111,
              "#46039f"
             ],
             [
              0.2222222222222222,
              "#7201a8"
             ],
             [
              0.3333333333333333,
              "#9c179e"
             ],
             [
              0.4444444444444444,
              "#bd3786"
             ],
             [
              0.5555555555555556,
              "#d8576b"
             ],
             [
              0.6666666666666666,
              "#ed7953"
             ],
             [
              0.7777777777777778,
              "#fb9f3a"
             ],
             [
              0.8888888888888888,
              "#fdca26"
             ],
             [
              1,
              "#f0f921"
             ]
            ],
            "type": "heatmap"
           }
          ],
          "heatmapgl": [
           {
            "colorbar": {
             "outlinewidth": 0,
             "ticks": ""
            },
            "colorscale": [
             [
              0,
              "#0d0887"
             ],
             [
              0.1111111111111111,
              "#46039f"
             ],
             [
              0.2222222222222222,
              "#7201a8"
             ],
             [
              0.3333333333333333,
              "#9c179e"
             ],
             [
              0.4444444444444444,
              "#bd3786"
             ],
             [
              0.5555555555555556,
              "#d8576b"
             ],
             [
              0.6666666666666666,
              "#ed7953"
             ],
             [
              0.7777777777777778,
              "#fb9f3a"
             ],
             [
              0.8888888888888888,
              "#fdca26"
             ],
             [
              1,
              "#f0f921"
             ]
            ],
            "type": "heatmapgl"
           }
          ],
          "histogram": [
           {
            "marker": {
             "pattern": {
              "fillmode": "overlay",
              "size": 10,
              "solidity": 0.2
             }
            },
            "type": "histogram"
           }
          ],
          "histogram2d": [
           {
            "colorbar": {
             "outlinewidth": 0,
             "ticks": ""
            },
            "colorscale": [
             [
              0,
              "#0d0887"
             ],
             [
              0.1111111111111111,
              "#46039f"
             ],
             [
              0.2222222222222222,
              "#7201a8"
             ],
             [
              0.3333333333333333,
              "#9c179e"
             ],
             [
              0.4444444444444444,
              "#bd3786"
             ],
             [
              0.5555555555555556,
              "#d8576b"
             ],
             [
              0.6666666666666666,
              "#ed7953"
             ],
             [
              0.7777777777777778,
              "#fb9f3a"
             ],
             [
              0.8888888888888888,
              "#fdca26"
             ],
             [
              1,
              "#f0f921"
             ]
            ],
            "type": "histogram2d"
           }
          ],
          "histogram2dcontour": [
           {
            "colorbar": {
             "outlinewidth": 0,
             "ticks": ""
            },
            "colorscale": [
             [
              0,
              "#0d0887"
             ],
             [
              0.1111111111111111,
              "#46039f"
             ],
             [
              0.2222222222222222,
              "#7201a8"
             ],
             [
              0.3333333333333333,
              "#9c179e"
             ],
             [
              0.4444444444444444,
              "#bd3786"
             ],
             [
              0.5555555555555556,
              "#d8576b"
             ],
             [
              0.6666666666666666,
              "#ed7953"
             ],
             [
              0.7777777777777778,
              "#fb9f3a"
             ],
             [
              0.8888888888888888,
              "#fdca26"
             ],
             [
              1,
              "#f0f921"
             ]
            ],
            "type": "histogram2dcontour"
           }
          ],
          "mesh3d": [
           {
            "colorbar": {
             "outlinewidth": 0,
             "ticks": ""
            },
            "type": "mesh3d"
           }
          ],
          "parcoords": [
           {
            "line": {
             "colorbar": {
              "outlinewidth": 0,
              "ticks": ""
             }
            },
            "type": "parcoords"
           }
          ],
          "pie": [
           {
            "automargin": true,
            "type": "pie"
           }
          ],
          "scatter": [
           {
            "fillpattern": {
             "fillmode": "overlay",
             "size": 10,
             "solidity": 0.2
            },
            "type": "scatter"
           }
          ],
          "scatter3d": [
           {
            "line": {
             "colorbar": {
              "outlinewidth": 0,
              "ticks": ""
             }
            },
            "marker": {
             "colorbar": {
              "outlinewidth": 0,
              "ticks": ""
             }
            },
            "type": "scatter3d"
           }
          ],
          "scattercarpet": [
           {
            "marker": {
             "colorbar": {
              "outlinewidth": 0,
              "ticks": ""
             }
            },
            "type": "scattercarpet"
           }
          ],
          "scattergeo": [
           {
            "marker": {
             "colorbar": {
              "outlinewidth": 0,
              "ticks": ""
             }
            },
            "type": "scattergeo"
           }
          ],
          "scattergl": [
           {
            "marker": {
             "colorbar": {
              "outlinewidth": 0,
              "ticks": ""
             }
            },
            "type": "scattergl"
           }
          ],
          "scattermapbox": [
           {
            "marker": {
             "colorbar": {
              "outlinewidth": 0,
              "ticks": ""
             }
            },
            "type": "scattermapbox"
           }
          ],
          "scatterpolar": [
           {
            "marker": {
             "colorbar": {
              "outlinewidth": 0,
              "ticks": ""
             }
            },
            "type": "scatterpolar"
           }
          ],
          "scatterpolargl": [
           {
            "marker": {
             "colorbar": {
              "outlinewidth": 0,
              "ticks": ""
             }
            },
            "type": "scatterpolargl"
           }
          ],
          "scatterternary": [
           {
            "marker": {
             "colorbar": {
              "outlinewidth": 0,
              "ticks": ""
             }
            },
            "type": "scatterternary"
           }
          ],
          "surface": [
           {
            "colorbar": {
             "outlinewidth": 0,
             "ticks": ""
            },
            "colorscale": [
             [
              0,
              "#0d0887"
             ],
             [
              0.1111111111111111,
              "#46039f"
             ],
             [
              0.2222222222222222,
              "#7201a8"
             ],
             [
              0.3333333333333333,
              "#9c179e"
             ],
             [
              0.4444444444444444,
              "#bd3786"
             ],
             [
              0.5555555555555556,
              "#d8576b"
             ],
             [
              0.6666666666666666,
              "#ed7953"
             ],
             [
              0.7777777777777778,
              "#fb9f3a"
             ],
             [
              0.8888888888888888,
              "#fdca26"
             ],
             [
              1,
              "#f0f921"
             ]
            ],
            "type": "surface"
           }
          ],
          "table": [
           {
            "cells": {
             "fill": {
              "color": "#EBF0F8"
             },
             "line": {
              "color": "white"
             }
            },
            "header": {
             "fill": {
              "color": "#C8D4E3"
             },
             "line": {
              "color": "white"
             }
            },
            "type": "table"
           }
          ]
         },
         "layout": {
          "annotationdefaults": {
           "arrowcolor": "#2a3f5f",
           "arrowhead": 0,
           "arrowwidth": 1
          },
          "autotypenumbers": "strict",
          "coloraxis": {
           "colorbar": {
            "outlinewidth": 0,
            "ticks": ""
           }
          },
          "colorscale": {
           "diverging": [
            [
             0,
             "#8e0152"
            ],
            [
             0.1,
             "#c51b7d"
            ],
            [
             0.2,
             "#de77ae"
            ],
            [
             0.3,
             "#f1b6da"
            ],
            [
             0.4,
             "#fde0ef"
            ],
            [
             0.5,
             "#f7f7f7"
            ],
            [
             0.6,
             "#e6f5d0"
            ],
            [
             0.7,
             "#b8e186"
            ],
            [
             0.8,
             "#7fbc41"
            ],
            [
             0.9,
             "#4d9221"
            ],
            [
             1,
             "#276419"
            ]
           ],
           "sequential": [
            [
             0,
             "#0d0887"
            ],
            [
             0.1111111111111111,
             "#46039f"
            ],
            [
             0.2222222222222222,
             "#7201a8"
            ],
            [
             0.3333333333333333,
             "#9c179e"
            ],
            [
             0.4444444444444444,
             "#bd3786"
            ],
            [
             0.5555555555555556,
             "#d8576b"
            ],
            [
             0.6666666666666666,
             "#ed7953"
            ],
            [
             0.7777777777777778,
             "#fb9f3a"
            ],
            [
             0.8888888888888888,
             "#fdca26"
            ],
            [
             1,
             "#f0f921"
            ]
           ],
           "sequentialminus": [
            [
             0,
             "#0d0887"
            ],
            [
             0.1111111111111111,
             "#46039f"
            ],
            [
             0.2222222222222222,
             "#7201a8"
            ],
            [
             0.3333333333333333,
             "#9c179e"
            ],
            [
             0.4444444444444444,
             "#bd3786"
            ],
            [
             0.5555555555555556,
             "#d8576b"
            ],
            [
             0.6666666666666666,
             "#ed7953"
            ],
            [
             0.7777777777777778,
             "#fb9f3a"
            ],
            [
             0.8888888888888888,
             "#fdca26"
            ],
            [
             1,
             "#f0f921"
            ]
           ]
          },
          "colorway": [
           "#636efa",
           "#EF553B",
           "#00cc96",
           "#ab63fa",
           "#FFA15A",
           "#19d3f3",
           "#FF6692",
           "#B6E880",
           "#FF97FF",
           "#FECB52"
          ],
          "font": {
           "color": "#2a3f5f"
          },
          "geo": {
           "bgcolor": "white",
           "lakecolor": "white",
           "landcolor": "#E5ECF6",
           "showlakes": true,
           "showland": true,
           "subunitcolor": "white"
          },
          "hoverlabel": {
           "align": "left"
          },
          "hovermode": "closest",
          "mapbox": {
           "style": "light"
          },
          "paper_bgcolor": "white",
          "plot_bgcolor": "#E5ECF6",
          "polar": {
           "angularaxis": {
            "gridcolor": "white",
            "linecolor": "white",
            "ticks": ""
           },
           "bgcolor": "#E5ECF6",
           "radialaxis": {
            "gridcolor": "white",
            "linecolor": "white",
            "ticks": ""
           }
          },
          "scene": {
           "xaxis": {
            "backgroundcolor": "#E5ECF6",
            "gridcolor": "white",
            "gridwidth": 2,
            "linecolor": "white",
            "showbackground": true,
            "ticks": "",
            "zerolinecolor": "white"
           },
           "yaxis": {
            "backgroundcolor": "#E5ECF6",
            "gridcolor": "white",
            "gridwidth": 2,
            "linecolor": "white",
            "showbackground": true,
            "ticks": "",
            "zerolinecolor": "white"
           },
           "zaxis": {
            "backgroundcolor": "#E5ECF6",
            "gridcolor": "white",
            "gridwidth": 2,
            "linecolor": "white",
            "showbackground": true,
            "ticks": "",
            "zerolinecolor": "white"
           }
          },
          "shapedefaults": {
           "line": {
            "color": "#2a3f5f"
           }
          },
          "ternary": {
           "aaxis": {
            "gridcolor": "white",
            "linecolor": "white",
            "ticks": ""
           },
           "baxis": {
            "gridcolor": "white",
            "linecolor": "white",
            "ticks": ""
           },
           "bgcolor": "#E5ECF6",
           "caxis": {
            "gridcolor": "white",
            "linecolor": "white",
            "ticks": ""
           }
          },
          "title": {
           "x": 0.05
          },
          "xaxis": {
           "automargin": true,
           "gridcolor": "white",
           "linecolor": "white",
           "ticks": "",
           "title": {
            "standoff": 15
           },
           "zerolinecolor": "white",
           "zerolinewidth": 2
          },
          "yaxis": {
           "automargin": true,
           "gridcolor": "white",
           "linecolor": "white",
           "ticks": "",
           "title": {
            "standoff": 15
           },
           "zerolinecolor": "white",
           "zerolinewidth": 2
          }
         }
        },
        "title": {
         "text": "Missed Surgeries by Type"
        },
        "xaxis": {
         "anchor": "y",
         "domain": [
          0,
          1
         ],
         "title": {
          "text": "Surgery Type"
         }
        },
        "yaxis": {
         "anchor": "x",
         "domain": [
          0,
          1
         ],
         "title": {
          "text": "Number of Missed Surgeries"
         }
        }
       }
      }
     },
     "metadata": {},
     "output_type": "display_data"
    }
   ],
   "source": [
    "import pandas as pd\n",
    "import plotly.graph_objects as go\n",
    "import plotly.express as px\n",
    "\n",
    "# Assuming df_scheduled and df_missed are already defined as per previous instructions\n",
    "\n",
    "# Initialize Figure for Operating Room Utilization\n",
    "fig = go.Figure()\n",
    "\n",
    "# Iterate through each operating room\n",
    "for room in sorted(df_scheduled['Room'].unique()):\n",
    "    room_data = df_scheduled[df_scheduled['Room'] == room].groupby('Day').agg({'Duration': 'sum'}).reset_index()\n",
    "    \n",
    "    # Generate hover text showing the count of each surgery type per day\n",
    "    hover_text = []\n",
    "    for _, row in room_data.iterrows():\n",
    "        day_data = df_scheduled[(df_scheduled['Room'] == room) & (df_scheduled['Day'] == row['Day'])]\n",
    "        type_counts = day_data['Type'].value_counts().to_dict()\n",
    "        hover_text_day = \", \".join([f\"{type}: {count}\" for type, count in type_counts.items()])\n",
    "        hover_text.append(hover_text_day)\n",
    "    \n",
    "    # Calculate text for the bar labels\n",
    "    text = [f\"Total Surgeries: {len(day_data)}\" for _, day_data in room_data.iterrows()]\n",
    "    \n",
    "    # Add bar chart for each operating room\n",
    "    fig.add_trace(go.Bar(x=room_data['Day'], y=room_data['Duration'], name=f'Room {room}',\n",
    "                         hoverinfo='text', text=text, hovertext=hover_text, textposition='auto'))\n",
    "\n",
    "# Add an 8-hour operating limit line and other enhancements\n",
    "fig.add_hline(y=8, line_dash=\"dot\", annotation_text=\"8-hour limit\", annotation_position=\"bottom right\")\n",
    "fig.update_layout(title_text='Operating Room Utilization by Day',\n",
    "                  xaxis_title=\"Day\",\n",
    "                  yaxis_title=\"Hours Used\",\n",
    "                  legend_title_text='Operating Room',\n",
    "                  legend=dict(yanchor=\"top\", y=0.99, xanchor=\"left\", x=0.01),\n",
    "                  barmode='group',\n",
    "                  bargap=0.15)\n",
    "\n",
    "# Visualization for Missed Surgeries by Type\n",
    "fig_missed = px.bar(df_missed, x='Type', y='Missed Count', text='Missed Count',\n",
    "                    title='Missed Surgeries by Type',\n",
    "                    labels={'Missed Count': 'Number of Missed Surgeries', 'Type': 'Surgery Type'})\n",
    "\n",
    "# Update layout for missed surgeries chart\n",
    "fig_missed.update_layout(xaxis_title=\"Surgery Type\", yaxis_title=\"Number of Missed Surgeries\",\n",
    "                         legend_title_text='Surgery Type')\n",
    "\n",
    "# Displaying the figures\n",
    "fig.show()\n",
    "fig_missed.show()\n"
   ]
  }
 ],
 "metadata": {
  "kernelspec": {
   "display_name": "base",
   "language": "python",
   "name": "python3"
  },
  "language_info": {
   "codemirror_mode": {
    "name": "ipython",
    "version": 3
   },
   "file_extension": ".py",
   "mimetype": "text/x-python",
   "name": "python",
   "nbconvert_exporter": "python",
   "pygments_lexer": "ipython3",
   "version": "3.10.9"
  }
 },
 "nbformat": 4,
 "nbformat_minor": 2
}
