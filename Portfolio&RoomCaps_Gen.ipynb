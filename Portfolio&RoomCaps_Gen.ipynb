{
 "cells": [
  {
   "cell_type": "markdown",
   "metadata": {},
   "source": [
    "### Surgery Portfolio CSV Generation"
   ]
  },
  {
   "cell_type": "code",
   "execution_count": 5,
   "metadata": {},
   "outputs": [],
   "source": [
    "import pandas as pd\n",
    "import random\n",
    "\n",
    "def generate_surgery_portfolio(surgery_types, num_surgeries_dict):\n",
    "    surgery_data = []\n",
    "    for surgery_type, count in num_surgeries_dict.items():\n",
    "        attributes = surgery_types[surgery_type]\n",
    "        for _ in range(count):\n",
    "            wait_time = -random.randint(0, 10)\n",
    "            surgery_data.append({\n",
    "                'surgery_type': surgery_type,\n",
    "                'admitted_date': wait_time,\n",
    "                'duration': attributes['duration'],\n",
    "                'priority': attributes['priority'],\n",
    "                'variance': attributes['variance']\n",
    "            })\n",
    "\n",
    "    surgery_portfolio = pd.DataFrame(surgery_data)\n",
    "    surgery_portfolio = surgery_portfolio.sample(frac=1).reset_index(drop=True)\n",
    "    return surgery_portfolio\n",
    "\n",
    "surgery_type_attributes = {\n",
    "    \"Cardiovascular\": {\"duration\": 4, \"variance\": 1.0, \"priority\": 3},\n",
    "    \"Neurological\": {\"duration\": 2, \"variance\": 1.2, \"priority\": 2.5},\n",
    "    \"Orthopedic\": {\"duration\": 3, \"variance\": 0.5, \"priority\": 1.5},\n",
    "    \"Gastrointestinal\": {\"duration\": 4, \"variance\": 0.7, \"priority\": 2.3},\n",
    "    \"Cosmetic\": {\"duration\": 5, \"variance\": 0.3, \"priority\": 1},\n",
    "}\n",
    "\n",
    "num_surgeries = {\n",
    "    \"Cardiovascular\": 5,\n",
    "    \"Neurological\": 10,\n",
    "    \"Orthopedic\": 8,\n",
    "    \"Gastrointestinal\": 6,\n",
    "    \"Cosmetic\": 4,\n",
    "}\n",
    "\n",
    "surgery_portfolio_df = generate_surgery_portfolio(surgery_type_attributes, num_surgeries)\n",
    "surgery_portfolio_df.to_csv(\"surgery_portfolio.csv\", index=False)\n"
   ]
  },
  {
   "cell_type": "markdown",
   "metadata": {},
   "source": [
    "### Room Capacity CSV Generation"
   ]
  },
  {
   "cell_type": "code",
   "execution_count": 3,
   "metadata": {},
   "outputs": [
    {
     "name": "stdout",
     "output_type": "stream",
     "text": [
      "    day  room  capacity\n",
      "0     0     0         8\n",
      "1     0     1         8\n",
      "2     0     2         8\n",
      "3     1     0         8\n",
      "4     1     1         8\n",
      "..  ...   ...       ...\n",
      "85   28     1         8\n",
      "86   28     2         8\n",
      "87   29     0         8\n",
      "88   29     1         8\n",
      "89   29     2         8\n",
      "\n",
      "[90 rows x 3 columns]\n"
     ]
    }
   ],
   "source": [
    "import pandas as pd\n",
    "\n",
    "def generate_room_capacities(num_rooms, num_days, hours_per_day):\n",
    "    data = {\n",
    "        'day': [],\n",
    "        'room': [],\n",
    "        'capacity': []\n",
    "    }\n",
    "    \n",
    "    # Assuming the capacity is equal to the hours per day\n",
    "    for day in range(num_days):\n",
    "        for room in range(num_rooms):\n",
    "            data['day'].append(day)\n",
    "            data['room'].append(room)\n",
    "            data['capacity'].append(hours_per_day)\n",
    "    \n",
    "    room_capacities = pd.DataFrame(data)\n",
    "    return room_capacities\n",
    "\n",
    "num_rooms = 3 \n",
    "num_days = 30\n",
    "hours_per_day = 8\n",
    "\n",
    "room_capacities_df = generate_room_capacities(num_rooms, num_days, hours_per_day)\n",
    "print(room_capacities_df)\n",
    "room_capacities_df.to_csv(\"OR_caps.csv\")\n"
   ]
  }
 ],
 "metadata": {
  "kernelspec": {
   "display_name": "base",
   "language": "python",
   "name": "python3"
  },
  "language_info": {
   "codemirror_mode": {
    "name": "ipython",
    "version": 3
   },
   "file_extension": ".py",
   "mimetype": "text/x-python",
   "name": "python",
   "nbconvert_exporter": "python",
   "pygments_lexer": "ipython3",
   "version": "3.11.7"
  }
 },
 "nbformat": 4,
 "nbformat_minor": 2
}
