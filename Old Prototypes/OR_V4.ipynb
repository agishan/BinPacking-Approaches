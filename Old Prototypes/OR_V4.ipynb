{
 "cells": [
  {
   "cell_type": "markdown",
   "metadata": {},
   "source": [
    "## Hospital Scheduling Using Bin Packing Approach\n",
    "\n",
    "### Objective:\n",
    "The objective of this approach is to efficiently schedule surgeries in hospital operating rooms while considering surgery durations, room availability, and surgery priorities.\n",
    "\n",
    "### Method:\n",
    "1. **Model Parameters:**\n",
    "    - Number of surgeries, types, rooms, and days.\n",
    "    - Operating hours per day.\n",
    "    - Surgery durations, priorities, and total surgeries of each type.\n",
    "\n",
    "2. **Variables:**\n",
    "\n",
    "- $ x_{s,d,r} $: Binary decision variable representing whether surgery \\( s \\) is scheduled on day \\( d \\) in room \\( r \\). It takes the value 1 if the surgery is scheduled, and 0 otherwise.\n",
    "- $ P_s $: Priority associated with surgery \\( s \\). This priority reflects the importance or urgency of performing the surgery.\n",
    "- $ W_d $: Weight assigned to day \\( d \\). This weight decreases over time to prioritize earlier scheduling.\n",
    "\n",
    "3. **Objective Function:**\n",
    "\n",
    "The objective is to maximize the total late cost by assigning surgeries to days and rooms in a way that maximizes the product of surgery priority, day weight, and the binary decision variable indicating whether the surgery is scheduled on that day and in that room.\n",
    "\n",
    "$$\n",
    "\\text{Maximize} \\sum_{s \\in \\text{surgeries}} \\sum_{d=1}^{\\text{days}} \\sum_{r=1}^{\\text{rooms}} P_s \\cdot W_d \\cdot x_{s,d,r}\n",
    "$$\n",
    "\n",
    "This objective function aims to maximize the sum of the products of surgery priorities, day weights, and the binary decision variables representing scheduled surgeries across all surgeries, days, and rooms.\n",
    "\n",
    "\n",
    "\n",
    "4. **Constraints:**\n",
    "    - Limit the total duration of surgeries in each room on each day to the operating hours.\n",
    "    - Ensure each surgery is assigned to at most one room on one day.\n",
    "    - Limit the total number of surgeries of each type scheduled.\n",
    "    - Add a variance based slack time at the end of each day (for each room) based on the sum of variances of surgeries scheduled.\n",
    "\n",
    "5. **Solving the Model:**\n",
    "    - Optimize the model to find the optimal surgery schedule using gurobi GRB.\n",
    "\n",
    "6. **Output:**\n",
    "    - Outputs a HTML visualization via Plotly to show the 5-day, 3-room schedule, along with missed surgery frequencies.\n",
    "    - Outputs 3 data frames showing OR utilization per day, schedule of surgeries, missed surgery frequencies.\n"
   ]
  },
  {
   "cell_type": "code",
   "execution_count": 1,
   "metadata": {},
   "outputs": [],
   "source": [
    "# Surgery type attributes (previously defined)\n",
    "surgery_type_attributes = {\n",
    "    \"Cardiovascular\": {\"duration\": 4, \"variance\": 1.0, \"priority\": 5},\n",
    "    \"Neurological\": {\"duration\": 2, \"variance\": 1.2, \"priority\": 4},\n",
    "    \"Orthopedic\": {\"duration\": 3, \"variance\": 0.5, \"priority\": 3},\n",
    "    \"Gastrointestinal\": {\"duration\": 4, \"variance\": 0.7, \"priority\": 2},\n",
    "    \"Cosmetic\": {\"duration\": 5, \"variance\": 0.3, \"priority\": 1},\n",
    "}\n",
    "\n",
    "total_surgeries_of_each_type = {1: 99, 2: 99, 3: 99, 4: 99, 5: 99}\n",
    "\n",
    "type_names = {\n",
    "    1: \"Cardiovascular\",\n",
    "    2: \"Neurological\",\n",
    "    3: \"Orthopedic\",\n",
    "    4: \"Gastrointestinal\",\n",
    "    5: \"Cosmetic\",\n",
    "}\n",
    "\n",
    "# Generate the surgeries list based on the new structure\n",
    "surgeries = [\n",
    "    f\"{type_names[type_id]} Surgery {i}\"\n",
    "    for type_id, count in total_surgeries_of_each_type.items()\n",
    "    for i in range(1, count + 1)\n",
    "]\n"
   ]
  },
  {
   "cell_type": "code",
   "execution_count": 2,
   "metadata": {},
   "outputs": [
    {
     "name": "stdout",
     "output_type": "stream",
     "text": [
      "Set parameter Username\n",
      "Academic license - for non-commercial use only - expires 2025-03-11\n",
      "Gurobi Optimizer version 11.0.1 build v11.0.1rc0 (win64 - Windows 11.0 (22631.2))\n",
      "\n",
      "CPU model: 13th Gen Intel(R) Core(TM) i7-1355U, instruction set [SSE2|AVX|AVX2]\n",
      "Thread count: 10 physical cores, 12 logical processors, using up to 12 threads\n",
      "\n",
      "Optimize a model with 525 rows, 7425 columns and 22275 nonzeros\n",
      "Model fingerprint: 0xa4423220\n",
      "Variable types: 0 continuous, 7425 integer (7425 binary)\n",
      "Coefficient statistics:\n",
      "  Matrix range     [1e+00, 5e+00]\n",
      "  Objective range  [1e+00, 3e+01]\n",
      "  Bounds range     [1e+00, 1e+00]\n",
      "  RHS range        [1e+00, 8e+00]\n",
      "Found heuristic solution: objective 450.0000000\n",
      "Presolve removed 15 rows and 0 columns\n",
      "Presolve time: 0.03s\n",
      "Presolved: 510 rows, 7425 columns, 14850 nonzeros\n",
      "Variable types: 0 continuous, 7425 integer (7425 binary)\n",
      "\n",
      "Root relaxation: objective 7.200000e+02, 1089 iterations, 0.02 seconds (0.05 work units)\n",
      "\n",
      "    Nodes    |    Current Node    |     Objective Bounds      |     Work\n",
      " Expl Unexpl |  Obj  Depth IntInf | Incumbent    BestBd   Gap | It/Node Time\n",
      "\n",
      "*    0     0               0     720.0000000  720.00000  0.00%     -    0s\n",
      "\n",
      "Explored 1 nodes (1089 simplex iterations) in 0.09 seconds (0.13 work units)\n",
      "Thread count was 12 (of 12 available processors)\n",
      "\n",
      "Solution count 2: 720 450 \n",
      "\n",
      "Optimal solution found (tolerance 1.00e-04)\n",
      "Best objective 7.200000000000e+02, best bound 7.200000000000e+02, gap 0.0000%\n",
      "Neurological Surgery 7 is scheduled on day 5 in room 3\n",
      "Neurological Surgery 8 is scheduled on day 1 in room 2\n",
      "Neurological Surgery 9 is scheduled on day 3 in room 1\n",
      "Neurological Surgery 11 is scheduled on day 3 in room 1\n",
      "Neurological Surgery 13 is scheduled on day 5 in room 1\n",
      "Neurological Surgery 14 is scheduled on day 1 in room 1\n",
      "Neurological Surgery 16 is scheduled on day 3 in room 2\n",
      "Neurological Surgery 17 is scheduled on day 2 in room 2\n",
      "Neurological Surgery 21 is scheduled on day 5 in room 1\n",
      "Neurological Surgery 23 is scheduled on day 4 in room 1\n",
      "Neurological Surgery 24 is scheduled on day 3 in room 3\n",
      "Neurological Surgery 25 is scheduled on day 1 in room 1\n",
      "Neurological Surgery 27 is scheduled on day 5 in room 3\n",
      "Neurological Surgery 29 is scheduled on day 2 in room 1\n",
      "Neurological Surgery 31 is scheduled on day 5 in room 2\n",
      "Neurological Surgery 33 is scheduled on day 1 in room 3\n",
      "Neurological Surgery 36 is scheduled on day 5 in room 2\n",
      "Neurological Surgery 37 is scheduled on day 1 in room 2\n",
      "Neurological Surgery 38 is scheduled on day 1 in room 3\n",
      "Neurological Surgery 39 is scheduled on day 5 in room 1\n",
      "Neurological Surgery 40 is scheduled on day 1 in room 1\n",
      "Neurological Surgery 41 is scheduled on day 2 in room 1\n",
      "Neurological Surgery 43 is scheduled on day 2 in room 3\n",
      "Neurological Surgery 44 is scheduled on day 4 in room 3\n",
      "Neurological Surgery 47 is scheduled on day 2 in room 3\n",
      "Neurological Surgery 48 is scheduled on day 4 in room 3\n",
      "Neurological Surgery 49 is scheduled on day 2 in room 2\n",
      "Neurological Surgery 50 is scheduled on day 3 in room 3\n",
      "Neurological Surgery 51 is scheduled on day 4 in room 1\n",
      "Neurological Surgery 53 is scheduled on day 2 in room 1\n",
      "Neurological Surgery 54 is scheduled on day 5 in room 3\n",
      "Neurological Surgery 56 is scheduled on day 3 in room 2\n",
      "Neurological Surgery 58 is scheduled on day 1 in room 1\n",
      "Neurological Surgery 60 is scheduled on day 2 in room 3\n",
      "Neurological Surgery 61 is scheduled on day 5 in room 1\n",
      "Neurological Surgery 62 is scheduled on day 5 in room 2\n",
      "Neurological Surgery 63 is scheduled on day 2 in room 2\n",
      "Neurological Surgery 64 is scheduled on day 4 in room 2\n",
      "Neurological Surgery 65 is scheduled on day 4 in room 1\n",
      "Neurological Surgery 66 is scheduled on day 5 in room 3\n",
      "Neurological Surgery 67 is scheduled on day 2 in room 2\n",
      "Neurological Surgery 68 is scheduled on day 2 in room 3\n",
      "Neurological Surgery 69 is scheduled on day 4 in room 2\n",
      "Neurological Surgery 70 is scheduled on day 3 in room 2\n",
      "Neurological Surgery 71 is scheduled on day 4 in room 2\n",
      "Neurological Surgery 72 is scheduled on day 4 in room 1\n",
      "Neurological Surgery 74 is scheduled on day 3 in room 3\n",
      "Neurological Surgery 75 is scheduled on day 3 in room 2\n",
      "Neurological Surgery 76 is scheduled on day 1 in room 2\n",
      "Neurological Surgery 77 is scheduled on day 1 in room 3\n",
      "Neurological Surgery 79 is scheduled on day 3 in room 1\n",
      "Neurological Surgery 85 is scheduled on day 5 in room 2\n",
      "Neurological Surgery 86 is scheduled on day 1 in room 2\n",
      "Neurological Surgery 87 is scheduled on day 4 in room 2\n",
      "Neurological Surgery 89 is scheduled on day 4 in room 3\n",
      "Neurological Surgery 91 is scheduled on day 2 in room 1\n",
      "Neurological Surgery 92 is scheduled on day 3 in room 1\n",
      "Neurological Surgery 96 is scheduled on day 1 in room 3\n",
      "Neurological Surgery 98 is scheduled on day 4 in room 3\n",
      "Neurological Surgery 99 is scheduled on day 3 in room 3\n"
     ]
    }
   ],
   "source": [
    "from gurobipy import Model, GRB\n",
    "import numpy as np\n",
    "\n",
    "# Constants\n",
    "days = 5\n",
    "rooms = 3\n",
    "hours_per_day = 8  # Assuming each operating room is available 8 hours per day\n",
    "\n",
    "# Model\n",
    "m = Model(\"SurgeryScheduling\")\n",
    "\n",
    "# Decision variables: surgery_scheduled[surgery, day, room]\n",
    "surgery_scheduled = m.addVars(surgeries, range(days), range(rooms), vtype=GRB.BINARY, name=\"schedule\")\n",
    "\n",
    "# Define a weight for each day, decreasing over time to prioritize earlier scheduling\n",
    "day_weights = {d: (days - d) for d in range(days)}\n",
    "\n",
    "# minimize late cost, incorporating surgery priority and day weight\n",
    "m.setObjective(sum(surgery_scheduled[s, d, r] * surgery_type_attributes[s.split()[0]]['priority'] * day_weights[d]\n",
    "                   for s in surgeries for d in range(days) for r in range(rooms)), GRB.MAXIMIZE)\n",
    "\n",
    "\n",
    "# Constraint: Each surgery can only be scheduled once\n",
    "for s in surgeries:\n",
    "    m.addConstr(sum(surgery_scheduled[s, d, r] for d in range(days) for r in range(rooms)) <= 1, f\"OneTime_{s}\")\n",
    "\n",
    "# Constraint: Respect operating room availability (duration and operating hours)\n",
    "for d in range(days):\n",
    "    for r in range(rooms):\n",
    "        m.addConstr(sum(surgery_scheduled[s, d, r] * surgery_type_attributes[s.split()[0]]['duration']\n",
    "                        for s in surgeries) <= hours_per_day, f\"RoomAvailability_{d}_{r}\")\n",
    "\n",
    "# Adjust the surgery duration constraints to incorporate pseudo-variance-based slack time\n",
    "beta = 0.0  # Multiplier for variance-based slack time\n",
    "for d in range(days):\n",
    "    for r in range(rooms):\n",
    "        slack_time_adjustment = beta * sum(\n",
    "            surgery_scheduled[s, d, r] * np.sqrt(surgery_type_attributes[s.split()[0]]['variance'])\n",
    "            for s in surgeries\n",
    "        )\n",
    "        m.addConstr(\n",
    "            sum(\n",
    "                surgery_scheduled[s, d, r] * surgery_type_attributes[s.split()[0]]['duration']\n",
    "                for s in surgeries\n",
    "            ) + slack_time_adjustment <= hours_per_day,\n",
    "            f\"variance_adjusted_duration_day{d+1}_room{r+1}\"\n",
    "        )\n",
    "\n",
    "# Optimize model\n",
    "m.optimize()\n",
    "\n",
    "# The structure will be: surgery_name: {\"day\": day, \"room\": room}\n",
    "scheduled_surgeries = {}\n",
    "\n",
    "# Populate the dictionary based on the optimization results\n",
    "for s in surgeries:\n",
    "    for d in range(days):\n",
    "        for r in range(rooms):\n",
    "            # Check if the surgery is scheduled based on the decision variable\n",
    "            if surgery_scheduled[s, d, r].X > 0.5:  # Using 0.5 as a threshold to indicate selection\n",
    "                # Store the scheduled day and room for each surgery\n",
    "                scheduled_surgeries[s] = {\"day\": d+1, \"room\": r+1}\n",
    "\n",
    "# Print or use the scheduled_surgeries dictionary as needed\n",
    "for surgery, info in scheduled_surgeries.items():\n",
    "    print(f\"{surgery} is scheduled on day {info['day']} in room {info['room']}\")\n",
    "\n",
    "\n"
   ]
  },
  {
   "cell_type": "code",
   "execution_count": 3,
   "metadata": {},
   "outputs": [
    {
     "ename": "AttributeError",
     "evalue": "'DataFrame' object has no attribute 'append'",
     "output_type": "error",
     "traceback": [
      "\u001b[1;31m---------------------------------------------------------------------------\u001b[0m",
      "\u001b[1;31mAttributeError\u001b[0m                            Traceback (most recent call last)",
      "\u001b[1;32m~\\AppData\\Local\\Temp\\ipykernel_16804\\2390665301.py\u001b[0m in \u001b[0;36m?\u001b[1;34m()\u001b[0m\n\u001b[0;32m     25\u001b[0m \u001b[1;32mfor\u001b[0m \u001b[0msurgery\u001b[0m \u001b[1;32min\u001b[0m \u001b[0mmissed_surgeries\u001b[0m\u001b[1;33m:\u001b[0m\u001b[1;33m\u001b[0m\u001b[1;33m\u001b[0m\u001b[0m\n\u001b[0;32m     26\u001b[0m     \u001b[0mtype_name\u001b[0m \u001b[1;33m=\u001b[0m \u001b[0msurgery\u001b[0m\u001b[1;33m.\u001b[0m\u001b[0msplit\u001b[0m\u001b[1;33m(\u001b[0m\u001b[1;33m)\u001b[0m\u001b[1;33m[\u001b[0m\u001b[1;36m0\u001b[0m\u001b[1;33m]\u001b[0m\u001b[1;33m\u001b[0m\u001b[1;33m\u001b[0m\u001b[0m\n\u001b[0;32m     27\u001b[0m     \u001b[0mduration\u001b[0m \u001b[1;33m=\u001b[0m \u001b[0msurgery_type_attributes\u001b[0m\u001b[1;33m[\u001b[0m\u001b[0mtype_name\u001b[0m\u001b[1;33m]\u001b[0m\u001b[1;33m[\u001b[0m\u001b[1;34m'duration'\u001b[0m\u001b[1;33m]\u001b[0m\u001b[1;33m\u001b[0m\u001b[1;33m\u001b[0m\u001b[0m\n\u001b[0;32m     28\u001b[0m     \u001b[1;31m# For missed surgeries, assign NaN to 'Day' and 'Room'\u001b[0m\u001b[1;33m\u001b[0m\u001b[1;33m\u001b[0m\u001b[0m\n\u001b[1;32m---> 29\u001b[1;33m     \u001b[0mdf_missed\u001b[0m \u001b[1;33m=\u001b[0m \u001b[0mdf_missed\u001b[0m\u001b[1;33m.\u001b[0m\u001b[0mappend\u001b[0m\u001b[1;33m(\u001b[0m\u001b[1;33m{\u001b[0m\u001b[1;34m'Surgery'\u001b[0m\u001b[1;33m:\u001b[0m \u001b[0msurgery\u001b[0m\u001b[1;33m,\u001b[0m \u001b[1;34m'Day'\u001b[0m\u001b[1;33m:\u001b[0m \u001b[1;32mNone\u001b[0m\u001b[1;33m,\u001b[0m \u001b[1;34m'Room'\u001b[0m\u001b[1;33m:\u001b[0m \u001b[1;32mNone\u001b[0m\u001b[1;33m,\u001b[0m \u001b[1;34m'Type'\u001b[0m\u001b[1;33m:\u001b[0m \u001b[0mtype_name\u001b[0m\u001b[1;33m,\u001b[0m \u001b[1;34m'Duration'\u001b[0m\u001b[1;33m:\u001b[0m \u001b[0mduration\u001b[0m\u001b[1;33m}\u001b[0m\u001b[1;33m,\u001b[0m \u001b[0mignore_index\u001b[0m\u001b[1;33m=\u001b[0m\u001b[1;32mTrue\u001b[0m\u001b[1;33m)\u001b[0m\u001b[1;33m\u001b[0m\u001b[1;33m\u001b[0m\u001b[0m\n\u001b[0m\u001b[0;32m     30\u001b[0m \u001b[1;33m\u001b[0m\u001b[0m\n\u001b[0;32m     31\u001b[0m \u001b[1;31m# Example output of scheduled surgeries DataFrame\u001b[0m\u001b[1;33m\u001b[0m\u001b[1;33m\u001b[0m\u001b[0m\n\u001b[0;32m     32\u001b[0m \u001b[0mprint\u001b[0m\u001b[1;33m(\u001b[0m\u001b[0mdf_scheduled\u001b[0m\u001b[1;33m.\u001b[0m\u001b[0mhead\u001b[0m\u001b[1;33m(\u001b[0m\u001b[1;33m)\u001b[0m\u001b[1;33m)\u001b[0m\u001b[1;33m\u001b[0m\u001b[1;33m\u001b[0m\u001b[0m\n",
      "\u001b[1;32mc:\\ProgramData\\anaconda3\\Lib\\site-packages\\pandas\\core\\generic.py\u001b[0m in \u001b[0;36m?\u001b[1;34m(self, name)\u001b[0m\n\u001b[0;32m   6200\u001b[0m             \u001b[1;32mand\u001b[0m \u001b[0mname\u001b[0m \u001b[1;32mnot\u001b[0m \u001b[1;32min\u001b[0m \u001b[0mself\u001b[0m\u001b[1;33m.\u001b[0m\u001b[0m_accessors\u001b[0m\u001b[1;33m\u001b[0m\u001b[1;33m\u001b[0m\u001b[0m\n\u001b[0;32m   6201\u001b[0m             \u001b[1;32mand\u001b[0m \u001b[0mself\u001b[0m\u001b[1;33m.\u001b[0m\u001b[0m_info_axis\u001b[0m\u001b[1;33m.\u001b[0m\u001b[0m_can_hold_identifiers_and_holds_name\u001b[0m\u001b[1;33m(\u001b[0m\u001b[0mname\u001b[0m\u001b[1;33m)\u001b[0m\u001b[1;33m\u001b[0m\u001b[1;33m\u001b[0m\u001b[0m\n\u001b[0;32m   6202\u001b[0m         ):\n\u001b[0;32m   6203\u001b[0m             \u001b[1;32mreturn\u001b[0m \u001b[0mself\u001b[0m\u001b[1;33m[\u001b[0m\u001b[0mname\u001b[0m\u001b[1;33m]\u001b[0m\u001b[1;33m\u001b[0m\u001b[1;33m\u001b[0m\u001b[0m\n\u001b[1;32m-> 6204\u001b[1;33m         \u001b[1;32mreturn\u001b[0m \u001b[0mobject\u001b[0m\u001b[1;33m.\u001b[0m\u001b[0m__getattribute__\u001b[0m\u001b[1;33m(\u001b[0m\u001b[0mself\u001b[0m\u001b[1;33m,\u001b[0m \u001b[0mname\u001b[0m\u001b[1;33m)\u001b[0m\u001b[1;33m\u001b[0m\u001b[1;33m\u001b[0m\u001b[0m\n\u001b[0m",
      "\u001b[1;31mAttributeError\u001b[0m: 'DataFrame' object has no attribute 'append'"
     ]
    }
   ],
   "source": [
    "import pandas as pd\n",
    "\n",
    "# Assuming scheduled_surgeries is already populated with optimization results\n",
    "# Convert the scheduled_surgeries dictionary to a DataFrame\n",
    "df_scheduled = pd.DataFrame([(surgery, info['day'], info['room'], surgery.split()[0])\n",
    "                             for surgery, info in scheduled_surgeries.items()],\n",
    "                            columns=['Surgery', 'Day', 'Room', 'Type'])\n",
    "\n",
    "# Since 'Type' is now directly taken from the surgery name, there's no need to map it again\n",
    "# However, we'll update 'Duration' based on the actual surgery type names\n",
    "df_scheduled['Duration'] = df_scheduled['Type'].apply(lambda x: surgery_type_attributes[x]['duration'])\n",
    "\n",
    "# For missed surgeries, assuming a hypothetical way to identify them,\n",
    "# we will continue with an empty DataFrame as no logic for identifying missed surgeries was provided\n",
    "df_missed = pd.DataFrame(columns=['Type', 'Missed Count'])\n",
    "\n",
    "# Extract surgeries that are in the schedule\n",
    "scheduled_surgeries = set(df_scheduled['Surgery'])\n",
    "\n",
    "# Find surgeries that are not in the schedule\n",
    "missed_surgeries = [surgery for surgery in surgeries if surgery not in scheduled_surgeries]\n",
    "\n",
    "# Create DataFrame for missed surgeries\n",
    "df_missed = pd.DataFrame(columns=['Surgery', 'Day', 'Room', 'Type', 'Duration'])\n",
    "for surgery in missed_surgeries:\n",
    "    type_name = surgery.split()[0]\n",
    "    duration = surgery_type_attributes[type_name]['duration']\n",
    "    # For missed surgeries, assign NaN to 'Day' and 'Room'\n",
    "    df_missed = df_missed.append({'Surgery': surgery, 'Day': None, 'Room': None, 'Type': type_name, 'Duration': duration}, ignore_index=True)\n",
    "\n",
    "# Example output of scheduled surgeries DataFrame\n",
    "print(df_scheduled.head())\n",
    "\n",
    "# Example output for missed surgeries DataFrame (based on placeholder logic, likely empty)\n",
    "print(df_missed)\n"
   ]
  },
  {
   "cell_type": "code",
   "execution_count": null,
   "metadata": {},
   "outputs": [
    {
     "data": {
      "text/html": [
       "<div>\n",
       "<style scoped>\n",
       "    .dataframe tbody tr th:only-of-type {\n",
       "        vertical-align: middle;\n",
       "    }\n",
       "\n",
       "    .dataframe tbody tr th {\n",
       "        vertical-align: top;\n",
       "    }\n",
       "\n",
       "    .dataframe thead th {\n",
       "        text-align: right;\n",
       "    }\n",
       "</style>\n",
       "<table border=\"1\" class=\"dataframe\">\n",
       "  <thead>\n",
       "    <tr style=\"text-align: right;\">\n",
       "      <th></th>\n",
       "      <th>Surgery</th>\n",
       "      <th>Day</th>\n",
       "      <th>Room</th>\n",
       "      <th>Type</th>\n",
       "      <th>Duration</th>\n",
       "    </tr>\n",
       "  </thead>\n",
       "  <tbody>\n",
       "    <tr>\n",
       "      <th>0</th>\n",
       "      <td>Cardiovascular Surgery 1</td>\n",
       "      <td>1</td>\n",
       "      <td>3</td>\n",
       "      <td>Cardiovascular</td>\n",
       "      <td>4</td>\n",
       "    </tr>\n",
       "    <tr>\n",
       "      <th>1</th>\n",
       "      <td>Cardiovascular Surgery 2</td>\n",
       "      <td>2</td>\n",
       "      <td>2</td>\n",
       "      <td>Cardiovascular</td>\n",
       "      <td>4</td>\n",
       "    </tr>\n",
       "    <tr>\n",
       "      <th>2</th>\n",
       "      <td>Cardiovascular Surgery 3</td>\n",
       "      <td>2</td>\n",
       "      <td>2</td>\n",
       "      <td>Cardiovascular</td>\n",
       "      <td>4</td>\n",
       "    </tr>\n",
       "    <tr>\n",
       "      <th>3</th>\n",
       "      <td>Cardiovascular Surgery 4</td>\n",
       "      <td>2</td>\n",
       "      <td>1</td>\n",
       "      <td>Cardiovascular</td>\n",
       "      <td>4</td>\n",
       "    </tr>\n",
       "    <tr>\n",
       "      <th>4</th>\n",
       "      <td>Cardiovascular Surgery 5</td>\n",
       "      <td>2</td>\n",
       "      <td>1</td>\n",
       "      <td>Cardiovascular</td>\n",
       "      <td>4</td>\n",
       "    </tr>\n",
       "  </tbody>\n",
       "</table>\n",
       "</div>"
      ],
      "text/plain": [
       "                    Surgery  Day  Room            Type  Duration\n",
       "0  Cardiovascular Surgery 1    1     3  Cardiovascular         4\n",
       "1  Cardiovascular Surgery 2    2     2  Cardiovascular         4\n",
       "2  Cardiovascular Surgery 3    2     2  Cardiovascular         4\n",
       "3  Cardiovascular Surgery 4    2     1  Cardiovascular         4\n",
       "4  Cardiovascular Surgery 5    2     1  Cardiovascular         4"
      ]
     },
     "execution_count": 126,
     "metadata": {},
     "output_type": "execute_result"
    }
   ],
   "source": [
    "df_scheduled.head()"
   ]
  },
  {
   "cell_type": "code",
   "execution_count": null,
   "metadata": {},
   "outputs": [
    {
     "data": {
      "text/html": [
       "<div>\n",
       "<style scoped>\n",
       "    .dataframe tbody tr th:only-of-type {\n",
       "        vertical-align: middle;\n",
       "    }\n",
       "\n",
       "    .dataframe tbody tr th {\n",
       "        vertical-align: top;\n",
       "    }\n",
       "\n",
       "    .dataframe thead th {\n",
       "        text-align: right;\n",
       "    }\n",
       "</style>\n",
       "<table border=\"1\" class=\"dataframe\">\n",
       "  <thead>\n",
       "    <tr style=\"text-align: right;\">\n",
       "      <th></th>\n",
       "      <th>Surgery</th>\n",
       "      <th>Day</th>\n",
       "      <th>Room</th>\n",
       "      <th>Type</th>\n",
       "      <th>Duration</th>\n",
       "    </tr>\n",
       "  </thead>\n",
       "  <tbody>\n",
       "    <tr>\n",
       "      <th>0</th>\n",
       "      <td>Gastrointestinal Surgery 1</td>\n",
       "      <td>None</td>\n",
       "      <td>None</td>\n",
       "      <td>Gastrointestinal</td>\n",
       "      <td>4</td>\n",
       "    </tr>\n",
       "    <tr>\n",
       "      <th>1</th>\n",
       "      <td>Gastrointestinal Surgery 4</td>\n",
       "      <td>None</td>\n",
       "      <td>None</td>\n",
       "      <td>Gastrointestinal</td>\n",
       "      <td>4</td>\n",
       "    </tr>\n",
       "    <tr>\n",
       "      <th>2</th>\n",
       "      <td>Gastrointestinal Surgery 6</td>\n",
       "      <td>None</td>\n",
       "      <td>None</td>\n",
       "      <td>Gastrointestinal</td>\n",
       "      <td>4</td>\n",
       "    </tr>\n",
       "    <tr>\n",
       "      <th>3</th>\n",
       "      <td>Gastrointestinal Surgery 8</td>\n",
       "      <td>None</td>\n",
       "      <td>None</td>\n",
       "      <td>Gastrointestinal</td>\n",
       "      <td>4</td>\n",
       "    </tr>\n",
       "    <tr>\n",
       "      <th>4</th>\n",
       "      <td>Cosmetic Surgery 1</td>\n",
       "      <td>None</td>\n",
       "      <td>None</td>\n",
       "      <td>Cosmetic</td>\n",
       "      <td>5</td>\n",
       "    </tr>\n",
       "  </tbody>\n",
       "</table>\n",
       "</div>"
      ],
      "text/plain": [
       "                      Surgery   Day  Room              Type Duration\n",
       "0  Gastrointestinal Surgery 1  None  None  Gastrointestinal        4\n",
       "1  Gastrointestinal Surgery 4  None  None  Gastrointestinal        4\n",
       "2  Gastrointestinal Surgery 6  None  None  Gastrointestinal        4\n",
       "3  Gastrointestinal Surgery 8  None  None  Gastrointestinal        4\n",
       "4          Cosmetic Surgery 1  None  None          Cosmetic        5"
      ]
     },
     "execution_count": 127,
     "metadata": {},
     "output_type": "execute_result"
    }
   ],
   "source": [
    "df_missed.head()"
   ]
  },
  {
   "cell_type": "code",
   "execution_count": null,
   "metadata": {},
   "outputs": [
    {
     "data": {
      "application/vnd.plotly.v1+json": {
       "config": {
        "plotlyServerURL": "https://plot.ly"
       },
       "data": [
        {
         "hoverinfo": "text",
         "hovertext": [
          "Neurological: 2, Cardiovascular: 1",
          "Cardiovascular: 2",
          "Cardiovascular: 2",
          "Orthopedic: 2",
          "Gastrointestinal: 2"
         ],
         "name": "Room 1",
         "text": [
          "Total Surgeries: 3",
          "Total Surgeries: 2",
          "Total Surgeries: 2",
          "Total Surgeries: 2",
          "Total Surgeries: 2"
         ],
         "textposition": "auto",
         "type": "bar",
         "x": [
          1,
          2,
          3,
          4,
          5
         ],
         "y": [
          8,
          8,
          8,
          6,
          8
         ]
        },
        {
         "hoverinfo": "text",
         "hovertext": [
          "Neurological: 4",
          "Cardiovascular: 2",
          "Cardiovascular: 2",
          "Orthopedic: 2",
          "Gastrointestinal: 2"
         ],
         "name": "Room 2",
         "text": [
          "Total Surgeries: 4",
          "Total Surgeries: 2",
          "Total Surgeries: 2",
          "Total Surgeries: 2",
          "Total Surgeries: 2"
         ],
         "textposition": "auto",
         "type": "bar",
         "x": [
          1,
          2,
          3,
          4,
          5
         ],
         "y": [
          8,
          8,
          8,
          6,
          8
         ]
        },
        {
         "hoverinfo": "text",
         "hovertext": [
          "Neurological: 2, Cardiovascular: 1",
          "Orthopedic: 2, Neurological: 1",
          "Orthopedic: 2, Neurological: 1",
          "Orthopedic: 2",
          "Gastrointestinal: 2"
         ],
         "name": "Room 3",
         "text": [
          "Total Surgeries: 3",
          "Total Surgeries: 3",
          "Total Surgeries: 3",
          "Total Surgeries: 2",
          "Total Surgeries: 2"
         ],
         "textposition": "auto",
         "type": "bar",
         "x": [
          1,
          2,
          3,
          4,
          5
         ],
         "y": [
          8,
          8,
          8,
          6,
          8
         ]
        }
       ],
       "layout": {
        "annotations": [
         {
          "showarrow": false,
          "text": "8-hour limit",
          "x": 1,
          "xanchor": "right",
          "xref": "x domain",
          "y": 8,
          "yanchor": "top",
          "yref": "y"
         }
        ],
        "bargap": 0.15,
        "barmode": "group",
        "legend": {
         "title": {
          "text": "Operating Room"
         },
         "x": 0.01,
         "xanchor": "left",
         "y": 0.99,
         "yanchor": "top"
        },
        "shapes": [
         {
          "line": {
           "dash": "dot"
          },
          "type": "line",
          "x0": 0,
          "x1": 1,
          "xref": "x domain",
          "y0": 8,
          "y1": 8,
          "yref": "y"
         }
        ],
        "template": {
         "data": {
          "bar": [
           {
            "error_x": {
             "color": "#2a3f5f"
            },
            "error_y": {
             "color": "#2a3f5f"
            },
            "marker": {
             "line": {
              "color": "#E5ECF6",
              "width": 0.5
             },
             "pattern": {
              "fillmode": "overlay",
              "size": 10,
              "solidity": 0.2
             }
            },
            "type": "bar"
           }
          ],
          "barpolar": [
           {
            "marker": {
             "line": {
              "color": "#E5ECF6",
              "width": 0.5
             },
             "pattern": {
              "fillmode": "overlay",
              "size": 10,
              "solidity": 0.2
             }
            },
            "type": "barpolar"
           }
          ],
          "carpet": [
           {
            "aaxis": {
             "endlinecolor": "#2a3f5f",
             "gridcolor": "white",
             "linecolor": "white",
             "minorgridcolor": "white",
             "startlinecolor": "#2a3f5f"
            },
            "baxis": {
             "endlinecolor": "#2a3f5f",
             "gridcolor": "white",
             "linecolor": "white",
             "minorgridcolor": "white",
             "startlinecolor": "#2a3f5f"
            },
            "type": "carpet"
           }
          ],
          "choropleth": [
           {
            "colorbar": {
             "outlinewidth": 0,
             "ticks": ""
            },
            "type": "choropleth"
           }
          ],
          "contour": [
           {
            "colorbar": {
             "outlinewidth": 0,
             "ticks": ""
            },
            "colorscale": [
             [
              0,
              "#0d0887"
             ],
             [
              0.1111111111111111,
              "#46039f"
             ],
             [
              0.2222222222222222,
              "#7201a8"
             ],
             [
              0.3333333333333333,
              "#9c179e"
             ],
             [
              0.4444444444444444,
              "#bd3786"
             ],
             [
              0.5555555555555556,
              "#d8576b"
             ],
             [
              0.6666666666666666,
              "#ed7953"
             ],
             [
              0.7777777777777778,
              "#fb9f3a"
             ],
             [
              0.8888888888888888,
              "#fdca26"
             ],
             [
              1,
              "#f0f921"
             ]
            ],
            "type": "contour"
           }
          ],
          "contourcarpet": [
           {
            "colorbar": {
             "outlinewidth": 0,
             "ticks": ""
            },
            "type": "contourcarpet"
           }
          ],
          "heatmap": [
           {
            "colorbar": {
             "outlinewidth": 0,
             "ticks": ""
            },
            "colorscale": [
             [
              0,
              "#0d0887"
             ],
             [
              0.1111111111111111,
              "#46039f"
             ],
             [
              0.2222222222222222,
              "#7201a8"
             ],
             [
              0.3333333333333333,
              "#9c179e"
             ],
             [
              0.4444444444444444,
              "#bd3786"
             ],
             [
              0.5555555555555556,
              "#d8576b"
             ],
             [
              0.6666666666666666,
              "#ed7953"
             ],
             [
              0.7777777777777778,
              "#fb9f3a"
             ],
             [
              0.8888888888888888,
              "#fdca26"
             ],
             [
              1,
              "#f0f921"
             ]
            ],
            "type": "heatmap"
           }
          ],
          "heatmapgl": [
           {
            "colorbar": {
             "outlinewidth": 0,
             "ticks": ""
            },
            "colorscale": [
             [
              0,
              "#0d0887"
             ],
             [
              0.1111111111111111,
              "#46039f"
             ],
             [
              0.2222222222222222,
              "#7201a8"
             ],
             [
              0.3333333333333333,
              "#9c179e"
             ],
             [
              0.4444444444444444,
              "#bd3786"
             ],
             [
              0.5555555555555556,
              "#d8576b"
             ],
             [
              0.6666666666666666,
              "#ed7953"
             ],
             [
              0.7777777777777778,
              "#fb9f3a"
             ],
             [
              0.8888888888888888,
              "#fdca26"
             ],
             [
              1,
              "#f0f921"
             ]
            ],
            "type": "heatmapgl"
           }
          ],
          "histogram": [
           {
            "marker": {
             "pattern": {
              "fillmode": "overlay",
              "size": 10,
              "solidity": 0.2
             }
            },
            "type": "histogram"
           }
          ],
          "histogram2d": [
           {
            "colorbar": {
             "outlinewidth": 0,
             "ticks": ""
            },
            "colorscale": [
             [
              0,
              "#0d0887"
             ],
             [
              0.1111111111111111,
              "#46039f"
             ],
             [
              0.2222222222222222,
              "#7201a8"
             ],
             [
              0.3333333333333333,
              "#9c179e"
             ],
             [
              0.4444444444444444,
              "#bd3786"
             ],
             [
              0.5555555555555556,
              "#d8576b"
             ],
             [
              0.6666666666666666,
              "#ed7953"
             ],
             [
              0.7777777777777778,
              "#fb9f3a"
             ],
             [
              0.8888888888888888,
              "#fdca26"
             ],
             [
              1,
              "#f0f921"
             ]
            ],
            "type": "histogram2d"
           }
          ],
          "histogram2dcontour": [
           {
            "colorbar": {
             "outlinewidth": 0,
             "ticks": ""
            },
            "colorscale": [
             [
              0,
              "#0d0887"
             ],
             [
              0.1111111111111111,
              "#46039f"
             ],
             [
              0.2222222222222222,
              "#7201a8"
             ],
             [
              0.3333333333333333,
              "#9c179e"
             ],
             [
              0.4444444444444444,
              "#bd3786"
             ],
             [
              0.5555555555555556,
              "#d8576b"
             ],
             [
              0.6666666666666666,
              "#ed7953"
             ],
             [
              0.7777777777777778,
              "#fb9f3a"
             ],
             [
              0.8888888888888888,
              "#fdca26"
             ],
             [
              1,
              "#f0f921"
             ]
            ],
            "type": "histogram2dcontour"
           }
          ],
          "mesh3d": [
           {
            "colorbar": {
             "outlinewidth": 0,
             "ticks": ""
            },
            "type": "mesh3d"
           }
          ],
          "parcoords": [
           {
            "line": {
             "colorbar": {
              "outlinewidth": 0,
              "ticks": ""
             }
            },
            "type": "parcoords"
           }
          ],
          "pie": [
           {
            "automargin": true,
            "type": "pie"
           }
          ],
          "scatter": [
           {
            "fillpattern": {
             "fillmode": "overlay",
             "size": 10,
             "solidity": 0.2
            },
            "type": "scatter"
           }
          ],
          "scatter3d": [
           {
            "line": {
             "colorbar": {
              "outlinewidth": 0,
              "ticks": ""
             }
            },
            "marker": {
             "colorbar": {
              "outlinewidth": 0,
              "ticks": ""
             }
            },
            "type": "scatter3d"
           }
          ],
          "scattercarpet": [
           {
            "marker": {
             "colorbar": {
              "outlinewidth": 0,
              "ticks": ""
             }
            },
            "type": "scattercarpet"
           }
          ],
          "scattergeo": [
           {
            "marker": {
             "colorbar": {
              "outlinewidth": 0,
              "ticks": ""
             }
            },
            "type": "scattergeo"
           }
          ],
          "scattergl": [
           {
            "marker": {
             "colorbar": {
              "outlinewidth": 0,
              "ticks": ""
             }
            },
            "type": "scattergl"
           }
          ],
          "scattermapbox": [
           {
            "marker": {
             "colorbar": {
              "outlinewidth": 0,
              "ticks": ""
             }
            },
            "type": "scattermapbox"
           }
          ],
          "scatterpolar": [
           {
            "marker": {
             "colorbar": {
              "outlinewidth": 0,
              "ticks": ""
             }
            },
            "type": "scatterpolar"
           }
          ],
          "scatterpolargl": [
           {
            "marker": {
             "colorbar": {
              "outlinewidth": 0,
              "ticks": ""
             }
            },
            "type": "scatterpolargl"
           }
          ],
          "scatterternary": [
           {
            "marker": {
             "colorbar": {
              "outlinewidth": 0,
              "ticks": ""
             }
            },
            "type": "scatterternary"
           }
          ],
          "surface": [
           {
            "colorbar": {
             "outlinewidth": 0,
             "ticks": ""
            },
            "colorscale": [
             [
              0,
              "#0d0887"
             ],
             [
              0.1111111111111111,
              "#46039f"
             ],
             [
              0.2222222222222222,
              "#7201a8"
             ],
             [
              0.3333333333333333,
              "#9c179e"
             ],
             [
              0.4444444444444444,
              "#bd3786"
             ],
             [
              0.5555555555555556,
              "#d8576b"
             ],
             [
              0.6666666666666666,
              "#ed7953"
             ],
             [
              0.7777777777777778,
              "#fb9f3a"
             ],
             [
              0.8888888888888888,
              "#fdca26"
             ],
             [
              1,
              "#f0f921"
             ]
            ],
            "type": "surface"
           }
          ],
          "table": [
           {
            "cells": {
             "fill": {
              "color": "#EBF0F8"
             },
             "line": {
              "color": "white"
             }
            },
            "header": {
             "fill": {
              "color": "#C8D4E3"
             },
             "line": {
              "color": "white"
             }
            },
            "type": "table"
           }
          ]
         },
         "layout": {
          "annotationdefaults": {
           "arrowcolor": "#2a3f5f",
           "arrowhead": 0,
           "arrowwidth": 1
          },
          "autotypenumbers": "strict",
          "coloraxis": {
           "colorbar": {
            "outlinewidth": 0,
            "ticks": ""
           }
          },
          "colorscale": {
           "diverging": [
            [
             0,
             "#8e0152"
            ],
            [
             0.1,
             "#c51b7d"
            ],
            [
             0.2,
             "#de77ae"
            ],
            [
             0.3,
             "#f1b6da"
            ],
            [
             0.4,
             "#fde0ef"
            ],
            [
             0.5,
             "#f7f7f7"
            ],
            [
             0.6,
             "#e6f5d0"
            ],
            [
             0.7,
             "#b8e186"
            ],
            [
             0.8,
             "#7fbc41"
            ],
            [
             0.9,
             "#4d9221"
            ],
            [
             1,
             "#276419"
            ]
           ],
           "sequential": [
            [
             0,
             "#0d0887"
            ],
            [
             0.1111111111111111,
             "#46039f"
            ],
            [
             0.2222222222222222,
             "#7201a8"
            ],
            [
             0.3333333333333333,
             "#9c179e"
            ],
            [
             0.4444444444444444,
             "#bd3786"
            ],
            [
             0.5555555555555556,
             "#d8576b"
            ],
            [
             0.6666666666666666,
             "#ed7953"
            ],
            [
             0.7777777777777778,
             "#fb9f3a"
            ],
            [
             0.8888888888888888,
             "#fdca26"
            ],
            [
             1,
             "#f0f921"
            ]
           ],
           "sequentialminus": [
            [
             0,
             "#0d0887"
            ],
            [
             0.1111111111111111,
             "#46039f"
            ],
            [
             0.2222222222222222,
             "#7201a8"
            ],
            [
             0.3333333333333333,
             "#9c179e"
            ],
            [
             0.4444444444444444,
             "#bd3786"
            ],
            [
             0.5555555555555556,
             "#d8576b"
            ],
            [
             0.6666666666666666,
             "#ed7953"
            ],
            [
             0.7777777777777778,
             "#fb9f3a"
            ],
            [
             0.8888888888888888,
             "#fdca26"
            ],
            [
             1,
             "#f0f921"
            ]
           ]
          },
          "colorway": [
           "#636efa",
           "#EF553B",
           "#00cc96",
           "#ab63fa",
           "#FFA15A",
           "#19d3f3",
           "#FF6692",
           "#B6E880",
           "#FF97FF",
           "#FECB52"
          ],
          "font": {
           "color": "#2a3f5f"
          },
          "geo": {
           "bgcolor": "white",
           "lakecolor": "white",
           "landcolor": "#E5ECF6",
           "showlakes": true,
           "showland": true,
           "subunitcolor": "white"
          },
          "hoverlabel": {
           "align": "left"
          },
          "hovermode": "closest",
          "mapbox": {
           "style": "light"
          },
          "paper_bgcolor": "white",
          "plot_bgcolor": "#E5ECF6",
          "polar": {
           "angularaxis": {
            "gridcolor": "white",
            "linecolor": "white",
            "ticks": ""
           },
           "bgcolor": "#E5ECF6",
           "radialaxis": {
            "gridcolor": "white",
            "linecolor": "white",
            "ticks": ""
           }
          },
          "scene": {
           "xaxis": {
            "backgroundcolor": "#E5ECF6",
            "gridcolor": "white",
            "gridwidth": 2,
            "linecolor": "white",
            "showbackground": true,
            "ticks": "",
            "zerolinecolor": "white"
           },
           "yaxis": {
            "backgroundcolor": "#E5ECF6",
            "gridcolor": "white",
            "gridwidth": 2,
            "linecolor": "white",
            "showbackground": true,
            "ticks": "",
            "zerolinecolor": "white"
           },
           "zaxis": {
            "backgroundcolor": "#E5ECF6",
            "gridcolor": "white",
            "gridwidth": 2,
            "linecolor": "white",
            "showbackground": true,
            "ticks": "",
            "zerolinecolor": "white"
           }
          },
          "shapedefaults": {
           "line": {
            "color": "#2a3f5f"
           }
          },
          "ternary": {
           "aaxis": {
            "gridcolor": "white",
            "linecolor": "white",
            "ticks": ""
           },
           "baxis": {
            "gridcolor": "white",
            "linecolor": "white",
            "ticks": ""
           },
           "bgcolor": "#E5ECF6",
           "caxis": {
            "gridcolor": "white",
            "linecolor": "white",
            "ticks": ""
           }
          },
          "title": {
           "x": 0.05
          },
          "xaxis": {
           "automargin": true,
           "gridcolor": "white",
           "linecolor": "white",
           "ticks": "",
           "title": {
            "standoff": 15
           },
           "zerolinecolor": "white",
           "zerolinewidth": 2
          },
          "yaxis": {
           "automargin": true,
           "gridcolor": "white",
           "linecolor": "white",
           "ticks": "",
           "title": {
            "standoff": 15
           },
           "zerolinecolor": "white",
           "zerolinewidth": 2
          }
         }
        },
        "title": {
         "text": "Operating Room Utilization by Day"
        },
        "xaxis": {
         "title": {
          "text": "Day"
         }
        },
        "yaxis": {
         "title": {
          "text": "Hours Used"
         }
        }
       }
      }
     },
     "metadata": {},
     "output_type": "display_data"
    },
    {
     "data": {
      "application/vnd.plotly.v1+json": {
       "config": {
        "plotlyServerURL": "https://plot.ly"
       },
       "data": [
        {
         "alignmentgroup": "True",
         "hovertemplate": "Surgery Type=%{x}<br>Number of Missed Surgeries=%{text}<extra></extra>",
         "legendgroup": "",
         "marker": {
          "color": "#636efa",
          "pattern": {
           "shape": ""
          }
         },
         "name": "",
         "offsetgroup": "",
         "orientation": "v",
         "showlegend": false,
         "text": [
          10,
          4
         ],
         "textposition": "auto",
         "type": "bar",
         "x": [
          "Cosmetic",
          "Gastrointestinal"
         ],
         "xaxis": "x",
         "y": [
          10,
          4
         ],
         "yaxis": "y"
        }
       ],
       "layout": {
        "barmode": "relative",
        "legend": {
         "title": {
          "text": "Surgery Type"
         },
         "tracegroupgap": 0
        },
        "template": {
         "data": {
          "bar": [
           {
            "error_x": {
             "color": "#2a3f5f"
            },
            "error_y": {
             "color": "#2a3f5f"
            },
            "marker": {
             "line": {
              "color": "#E5ECF6",
              "width": 0.5
             },
             "pattern": {
              "fillmode": "overlay",
              "size": 10,
              "solidity": 0.2
             }
            },
            "type": "bar"
           }
          ],
          "barpolar": [
           {
            "marker": {
             "line": {
              "color": "#E5ECF6",
              "width": 0.5
             },
             "pattern": {
              "fillmode": "overlay",
              "size": 10,
              "solidity": 0.2
             }
            },
            "type": "barpolar"
           }
          ],
          "carpet": [
           {
            "aaxis": {
             "endlinecolor": "#2a3f5f",
             "gridcolor": "white",
             "linecolor": "white",
             "minorgridcolor": "white",
             "startlinecolor": "#2a3f5f"
            },
            "baxis": {
             "endlinecolor": "#2a3f5f",
             "gridcolor": "white",
             "linecolor": "white",
             "minorgridcolor": "white",
             "startlinecolor": "#2a3f5f"
            },
            "type": "carpet"
           }
          ],
          "choropleth": [
           {
            "colorbar": {
             "outlinewidth": 0,
             "ticks": ""
            },
            "type": "choropleth"
           }
          ],
          "contour": [
           {
            "colorbar": {
             "outlinewidth": 0,
             "ticks": ""
            },
            "colorscale": [
             [
              0,
              "#0d0887"
             ],
             [
              0.1111111111111111,
              "#46039f"
             ],
             [
              0.2222222222222222,
              "#7201a8"
             ],
             [
              0.3333333333333333,
              "#9c179e"
             ],
             [
              0.4444444444444444,
              "#bd3786"
             ],
             [
              0.5555555555555556,
              "#d8576b"
             ],
             [
              0.6666666666666666,
              "#ed7953"
             ],
             [
              0.7777777777777778,
              "#fb9f3a"
             ],
             [
              0.8888888888888888,
              "#fdca26"
             ],
             [
              1,
              "#f0f921"
             ]
            ],
            "type": "contour"
           }
          ],
          "contourcarpet": [
           {
            "colorbar": {
             "outlinewidth": 0,
             "ticks": ""
            },
            "type": "contourcarpet"
           }
          ],
          "heatmap": [
           {
            "colorbar": {
             "outlinewidth": 0,
             "ticks": ""
            },
            "colorscale": [
             [
              0,
              "#0d0887"
             ],
             [
              0.1111111111111111,
              "#46039f"
             ],
             [
              0.2222222222222222,
              "#7201a8"
             ],
             [
              0.3333333333333333,
              "#9c179e"
             ],
             [
              0.4444444444444444,
              "#bd3786"
             ],
             [
              0.5555555555555556,
              "#d8576b"
             ],
             [
              0.6666666666666666,
              "#ed7953"
             ],
             [
              0.7777777777777778,
              "#fb9f3a"
             ],
             [
              0.8888888888888888,
              "#fdca26"
             ],
             [
              1,
              "#f0f921"
             ]
            ],
            "type": "heatmap"
           }
          ],
          "heatmapgl": [
           {
            "colorbar": {
             "outlinewidth": 0,
             "ticks": ""
            },
            "colorscale": [
             [
              0,
              "#0d0887"
             ],
             [
              0.1111111111111111,
              "#46039f"
             ],
             [
              0.2222222222222222,
              "#7201a8"
             ],
             [
              0.3333333333333333,
              "#9c179e"
             ],
             [
              0.4444444444444444,
              "#bd3786"
             ],
             [
              0.5555555555555556,
              "#d8576b"
             ],
             [
              0.6666666666666666,
              "#ed7953"
             ],
             [
              0.7777777777777778,
              "#fb9f3a"
             ],
             [
              0.8888888888888888,
              "#fdca26"
             ],
             [
              1,
              "#f0f921"
             ]
            ],
            "type": "heatmapgl"
           }
          ],
          "histogram": [
           {
            "marker": {
             "pattern": {
              "fillmode": "overlay",
              "size": 10,
              "solidity": 0.2
             }
            },
            "type": "histogram"
           }
          ],
          "histogram2d": [
           {
            "colorbar": {
             "outlinewidth": 0,
             "ticks": ""
            },
            "colorscale": [
             [
              0,
              "#0d0887"
             ],
             [
              0.1111111111111111,
              "#46039f"
             ],
             [
              0.2222222222222222,
              "#7201a8"
             ],
             [
              0.3333333333333333,
              "#9c179e"
             ],
             [
              0.4444444444444444,
              "#bd3786"
             ],
             [
              0.5555555555555556,
              "#d8576b"
             ],
             [
              0.6666666666666666,
              "#ed7953"
             ],
             [
              0.7777777777777778,
              "#fb9f3a"
             ],
             [
              0.8888888888888888,
              "#fdca26"
             ],
             [
              1,
              "#f0f921"
             ]
            ],
            "type": "histogram2d"
           }
          ],
          "histogram2dcontour": [
           {
            "colorbar": {
             "outlinewidth": 0,
             "ticks": ""
            },
            "colorscale": [
             [
              0,
              "#0d0887"
             ],
             [
              0.1111111111111111,
              "#46039f"
             ],
             [
              0.2222222222222222,
              "#7201a8"
             ],
             [
              0.3333333333333333,
              "#9c179e"
             ],
             [
              0.4444444444444444,
              "#bd3786"
             ],
             [
              0.5555555555555556,
              "#d8576b"
             ],
             [
              0.6666666666666666,
              "#ed7953"
             ],
             [
              0.7777777777777778,
              "#fb9f3a"
             ],
             [
              0.8888888888888888,
              "#fdca26"
             ],
             [
              1,
              "#f0f921"
             ]
            ],
            "type": "histogram2dcontour"
           }
          ],
          "mesh3d": [
           {
            "colorbar": {
             "outlinewidth": 0,
             "ticks": ""
            },
            "type": "mesh3d"
           }
          ],
          "parcoords": [
           {
            "line": {
             "colorbar": {
              "outlinewidth": 0,
              "ticks": ""
             }
            },
            "type": "parcoords"
           }
          ],
          "pie": [
           {
            "automargin": true,
            "type": "pie"
           }
          ],
          "scatter": [
           {
            "fillpattern": {
             "fillmode": "overlay",
             "size": 10,
             "solidity": 0.2
            },
            "type": "scatter"
           }
          ],
          "scatter3d": [
           {
            "line": {
             "colorbar": {
              "outlinewidth": 0,
              "ticks": ""
             }
            },
            "marker": {
             "colorbar": {
              "outlinewidth": 0,
              "ticks": ""
             }
            },
            "type": "scatter3d"
           }
          ],
          "scattercarpet": [
           {
            "marker": {
             "colorbar": {
              "outlinewidth": 0,
              "ticks": ""
             }
            },
            "type": "scattercarpet"
           }
          ],
          "scattergeo": [
           {
            "marker": {
             "colorbar": {
              "outlinewidth": 0,
              "ticks": ""
             }
            },
            "type": "scattergeo"
           }
          ],
          "scattergl": [
           {
            "marker": {
             "colorbar": {
              "outlinewidth": 0,
              "ticks": ""
             }
            },
            "type": "scattergl"
           }
          ],
          "scattermapbox": [
           {
            "marker": {
             "colorbar": {
              "outlinewidth": 0,
              "ticks": ""
             }
            },
            "type": "scattermapbox"
           }
          ],
          "scatterpolar": [
           {
            "marker": {
             "colorbar": {
              "outlinewidth": 0,
              "ticks": ""
             }
            },
            "type": "scatterpolar"
           }
          ],
          "scatterpolargl": [
           {
            "marker": {
             "colorbar": {
              "outlinewidth": 0,
              "ticks": ""
             }
            },
            "type": "scatterpolargl"
           }
          ],
          "scatterternary": [
           {
            "marker": {
             "colorbar": {
              "outlinewidth": 0,
              "ticks": ""
             }
            },
            "type": "scatterternary"
           }
          ],
          "surface": [
           {
            "colorbar": {
             "outlinewidth": 0,
             "ticks": ""
            },
            "colorscale": [
             [
              0,
              "#0d0887"
             ],
             [
              0.1111111111111111,
              "#46039f"
             ],
             [
              0.2222222222222222,
              "#7201a8"
             ],
             [
              0.3333333333333333,
              "#9c179e"
             ],
             [
              0.4444444444444444,
              "#bd3786"
             ],
             [
              0.5555555555555556,
              "#d8576b"
             ],
             [
              0.6666666666666666,
              "#ed7953"
             ],
             [
              0.7777777777777778,
              "#fb9f3a"
             ],
             [
              0.8888888888888888,
              "#fdca26"
             ],
             [
              1,
              "#f0f921"
             ]
            ],
            "type": "surface"
           }
          ],
          "table": [
           {
            "cells": {
             "fill": {
              "color": "#EBF0F8"
             },
             "line": {
              "color": "white"
             }
            },
            "header": {
             "fill": {
              "color": "#C8D4E3"
             },
             "line": {
              "color": "white"
             }
            },
            "type": "table"
           }
          ]
         },
         "layout": {
          "annotationdefaults": {
           "arrowcolor": "#2a3f5f",
           "arrowhead": 0,
           "arrowwidth": 1
          },
          "autotypenumbers": "strict",
          "coloraxis": {
           "colorbar": {
            "outlinewidth": 0,
            "ticks": ""
           }
          },
          "colorscale": {
           "diverging": [
            [
             0,
             "#8e0152"
            ],
            [
             0.1,
             "#c51b7d"
            ],
            [
             0.2,
             "#de77ae"
            ],
            [
             0.3,
             "#f1b6da"
            ],
            [
             0.4,
             "#fde0ef"
            ],
            [
             0.5,
             "#f7f7f7"
            ],
            [
             0.6,
             "#e6f5d0"
            ],
            [
             0.7,
             "#b8e186"
            ],
            [
             0.8,
             "#7fbc41"
            ],
            [
             0.9,
             "#4d9221"
            ],
            [
             1,
             "#276419"
            ]
           ],
           "sequential": [
            [
             0,
             "#0d0887"
            ],
            [
             0.1111111111111111,
             "#46039f"
            ],
            [
             0.2222222222222222,
             "#7201a8"
            ],
            [
             0.3333333333333333,
             "#9c179e"
            ],
            [
             0.4444444444444444,
             "#bd3786"
            ],
            [
             0.5555555555555556,
             "#d8576b"
            ],
            [
             0.6666666666666666,
             "#ed7953"
            ],
            [
             0.7777777777777778,
             "#fb9f3a"
            ],
            [
             0.8888888888888888,
             "#fdca26"
            ],
            [
             1,
             "#f0f921"
            ]
           ],
           "sequentialminus": [
            [
             0,
             "#0d0887"
            ],
            [
             0.1111111111111111,
             "#46039f"
            ],
            [
             0.2222222222222222,
             "#7201a8"
            ],
            [
             0.3333333333333333,
             "#9c179e"
            ],
            [
             0.4444444444444444,
             "#bd3786"
            ],
            [
             0.5555555555555556,
             "#d8576b"
            ],
            [
             0.6666666666666666,
             "#ed7953"
            ],
            [
             0.7777777777777778,
             "#fb9f3a"
            ],
            [
             0.8888888888888888,
             "#fdca26"
            ],
            [
             1,
             "#f0f921"
            ]
           ]
          },
          "colorway": [
           "#636efa",
           "#EF553B",
           "#00cc96",
           "#ab63fa",
           "#FFA15A",
           "#19d3f3",
           "#FF6692",
           "#B6E880",
           "#FF97FF",
           "#FECB52"
          ],
          "font": {
           "color": "#2a3f5f"
          },
          "geo": {
           "bgcolor": "white",
           "lakecolor": "white",
           "landcolor": "#E5ECF6",
           "showlakes": true,
           "showland": true,
           "subunitcolor": "white"
          },
          "hoverlabel": {
           "align": "left"
          },
          "hovermode": "closest",
          "mapbox": {
           "style": "light"
          },
          "paper_bgcolor": "white",
          "plot_bgcolor": "#E5ECF6",
          "polar": {
           "angularaxis": {
            "gridcolor": "white",
            "linecolor": "white",
            "ticks": ""
           },
           "bgcolor": "#E5ECF6",
           "radialaxis": {
            "gridcolor": "white",
            "linecolor": "white",
            "ticks": ""
           }
          },
          "scene": {
           "xaxis": {
            "backgroundcolor": "#E5ECF6",
            "gridcolor": "white",
            "gridwidth": 2,
            "linecolor": "white",
            "showbackground": true,
            "ticks": "",
            "zerolinecolor": "white"
           },
           "yaxis": {
            "backgroundcolor": "#E5ECF6",
            "gridcolor": "white",
            "gridwidth": 2,
            "linecolor": "white",
            "showbackground": true,
            "ticks": "",
            "zerolinecolor": "white"
           },
           "zaxis": {
            "backgroundcolor": "#E5ECF6",
            "gridcolor": "white",
            "gridwidth": 2,
            "linecolor": "white",
            "showbackground": true,
            "ticks": "",
            "zerolinecolor": "white"
           }
          },
          "shapedefaults": {
           "line": {
            "color": "#2a3f5f"
           }
          },
          "ternary": {
           "aaxis": {
            "gridcolor": "white",
            "linecolor": "white",
            "ticks": ""
           },
           "baxis": {
            "gridcolor": "white",
            "linecolor": "white",
            "ticks": ""
           },
           "bgcolor": "#E5ECF6",
           "caxis": {
            "gridcolor": "white",
            "linecolor": "white",
            "ticks": ""
           }
          },
          "title": {
           "x": 0.05
          },
          "xaxis": {
           "automargin": true,
           "gridcolor": "white",
           "linecolor": "white",
           "ticks": "",
           "title": {
            "standoff": 15
           },
           "zerolinecolor": "white",
           "zerolinewidth": 2
          },
          "yaxis": {
           "automargin": true,
           "gridcolor": "white",
           "linecolor": "white",
           "ticks": "",
           "title": {
            "standoff": 15
           },
           "zerolinecolor": "white",
           "zerolinewidth": 2
          }
         }
        },
        "title": {
         "text": "Missed Surgeries by Type"
        },
        "xaxis": {
         "anchor": "y",
         "domain": [
          0,
          1
         ],
         "title": {
          "text": "Surgery Type"
         }
        },
        "yaxis": {
         "anchor": "x",
         "domain": [
          0,
          1
         ],
         "title": {
          "text": "Number of Missed Surgeries"
         }
        }
       }
      }
     },
     "metadata": {},
     "output_type": "display_data"
    }
   ],
   "source": [
    "import pandas as pd\n",
    "import plotly.graph_objects as go\n",
    "import plotly.express as px\n",
    "\n",
    "# Assuming df_scheduled and df_missed are already defined as per previous instructions\n",
    "\n",
    "# Initialize Figure for Operating Room Utilization\n",
    "fig = go.Figure()\n",
    "\n",
    "# Iterate through each operating room\n",
    "for room in sorted(df_scheduled['Room'].unique()):\n",
    "    # Group the data by day and sum the duration\n",
    "    room_data = df_scheduled[df_scheduled['Room'] == room].groupby('Day').agg({'Duration': 'sum'}).reset_index()\n",
    "    \n",
    "    # Generate hover text showing the count of each surgery type per day\n",
    "    hover_text = []\n",
    "    for day in room_data['Day']:\n",
    "        day_data = df_scheduled[(df_scheduled['Room'] == room) & (df_scheduled['Day'] == day)]\n",
    "        type_counts = day_data['Type'].value_counts().to_dict()\n",
    "        hover_text_day = \", \".join([f\"{type}: {count}\" for type, count in type_counts.items()])\n",
    "        hover_text.append(hover_text_day)\n",
    "    \n",
    "    # Calculate text for the bar labels\n",
    "    text = [f\"Total Surgeries: {len(df_scheduled[(df_scheduled['Room'] == room) & (df_scheduled['Day'] == day)])}\"\n",
    "            for day in room_data['Day']]\n",
    "    \n",
    "    # Add bar chart for each operating room\n",
    "    fig.add_trace(go.Bar(x=room_data['Day'], y=room_data['Duration'], name=f'Room {room}',\n",
    "                         hoverinfo='text', text=text, hovertext=hover_text, textposition='auto'))\n",
    "\n",
    "# Update layout for better visualization\n",
    "fig.update_layout(title_text='Operating Room Utilization by Day',\n",
    "                  xaxis_title=\"Day\",\n",
    "                  yaxis_title=\"Hours Used\",\n",
    "                  legend=dict(yanchor=\"top\", y=0.99, xanchor=\"left\", x=0.01),\n",
    "                  barmode='group',\n",
    "                  bargap=0.2)\n",
    "\n",
    "# Add an 8-hour operating limit line and other enhancements\n",
    "fig.add_hline(y=8, line_dash=\"dot\", annotation_text=\"8-hour limit\", annotation_position=\"bottom right\")\n",
    "fig.update_layout(title_text='Operating Room Utilization by Day',\n",
    "                  xaxis_title=\"Day\",\n",
    "                  yaxis_title=\"Hours Used\",\n",
    "                  legend_title_text='Operating Room',\n",
    "                  legend=dict(yanchor=\"top\", y=0.99, xanchor=\"left\", x=0.01),\n",
    "                  barmode='group',\n",
    "                  bargap=0.15)\n",
    "\n",
    "# Example code to fix the DataFrame structure\n",
    "df_missed = df_missed[['Type', 'Surgery', 'Duration']]\n",
    "df_missed = df_missed.groupby([\"Type\"]).size().reset_index(name='Missed Count')\n",
    "\n",
    "# Visualization for Missed Surgeries by Type\n",
    "fig_missed = px.bar(df_missed, x='Type', y='Missed Count', text='Missed Count',\n",
    "                    title='Missed Surgeries by Type',\n",
    "                    labels={'Missed Count': 'Number of Missed Surgeries', 'Type': 'Surgery Type'})\n",
    "\n",
    "# Update layout for missed surgeries chart\n",
    "fig_missed.update_layout(xaxis_title=\"Surgery Type\", yaxis_title=\"Number of Missed Surgeries\",\n",
    "                         legend_title_text='Surgery Type')\n",
    "\n",
    "# Displaying the figures\n",
    "fig.show()\n",
    "fig_missed.show()\n"
   ]
  },
  {
   "cell_type": "code",
   "execution_count": null,
   "metadata": {},
   "outputs": [],
   "source": [
    "# Save HTML content of both plots separately\n",
    "html_content_fig = fig.to_html(full_html=False)\n",
    "html_content_fig_missed = fig_missed.to_html(full_html=False)\n",
    "\n",
    "# Combine the HTML content into one file\n",
    "combined_html_content = html_content_fig + html_content_fig_missed\n",
    "\n",
    "# Save the combined HTML content to a file\n",
    "with open('operating_room_utilization_combined_3.0.html', 'w') as f:\n",
    "    f.write(combined_html_content)"
   ]
  }
 ],
 "metadata": {
  "kernelspec": {
   "display_name": "base",
   "language": "python",
   "name": "python3"
  },
  "language_info": {
   "codemirror_mode": {
    "name": "ipython",
    "version": 3
   },
   "file_extension": ".py",
   "mimetype": "text/x-python",
   "name": "python",
   "nbconvert_exporter": "python",
   "pygments_lexer": "ipython3",
   "version": "3.11.7"
  }
 },
 "nbformat": 4,
 "nbformat_minor": 2
}
